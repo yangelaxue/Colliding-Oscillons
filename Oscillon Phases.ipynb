{
 "cells": [
  {
   "cell_type": "markdown",
   "id": "c790b51b-9156-4ec9-84cb-471852d5671d",
   "metadata": {},
   "source": [
    "Wherein I save oscillon images at various stages of its oscillation to use for collisions."
   ]
  },
  {
   "cell_type": "code",
   "execution_count": 32,
   "id": "d4c7aaa1",
   "metadata": {},
   "outputs": [],
   "source": [
    "import numpy as np\n",
    "import matplotlib.pyplot as plt\n",
    "import os, struct"
   ]
  },
  {
   "cell_type": "code",
   "execution_count": 33,
   "id": "1eddf587",
   "metadata": {},
   "outputs": [],
   "source": [
    "# from utils.extract_utils import *\n",
    "from utils.latticeeasy import *\n",
    "from utils.oscillons import get_oscillon_coms\n",
    "# from utils.gradient_utils import gradient_discrete\n",
    "from utils.label_utils import get_labels, label_blobs\n",
    "from utils.gmon import get_mass"
   ]
  },
  {
   "cell_type": "code",
   "execution_count": 34,
   "id": "e03340b6",
   "metadata": {},
   "outputs": [],
   "source": [
    "from matplotlib import rc\n",
    "rc('font', **{'family': 'serif', 'serif': ['Computer Modern'], 'size': 11})\n",
    "rc('text', usetex=True)\n",
    "rc('image', cmap='gist_heat_r')\n",
    "rc('axes', **{'titlesize': 11})\n",
    "\n",
    "plt.rcParams['axes.axisbelow'] = True\n",
    "\n",
    "from mpl_toolkits.axes_grid1 import make_axes_locatable"
   ]
  },
  {
   "cell_type": "markdown",
   "id": "69412020",
   "metadata": {},
   "source": [
    "# Load data"
   ]
  },
  {
   "cell_type": "code",
   "execution_count": 35,
   "id": "8833d1d1",
   "metadata": {},
   "outputs": [
    {
     "data": {
      "text/plain": [
       "{'output_dir': '/media/yangelaxue/TRANSFER/Colliding_Oscillons/alpha_beta-0.5_50_250.804626/osc2_128_v2/highres_time_128/',\n",
       " 'alpha': 0.5,\n",
       " 'beta': 50.0,\n",
       " 'phi_0': 0.118201,\n",
       " 'dt_pr': 0.001,\n",
       " 'domain_width_pr': array([0.365995, 0.365995, 0.365995]),\n",
       " 'domain_dimensions': (128, 128, 128),\n",
       " 't': array([ 0.499997,  1.500014,  2.000037,  2.999965,  3.999892,  4.99982 ,\n",
       "         5.999747,  6.999675,  7.999603,  8.499805,  9.000008,  9.50021 ,\n",
       "        10.000412, 10.500614, 11.000816, 11.501019, 12.001221, 12.501423,\n",
       "        13.001625, 13.501827, 14.002029, 14.502232, 15.002434, 15.502636,\n",
       "        16.002834, 17.002285, 18.001736, 19.001186, 20.000637, 21.000088,\n",
       "        21.999538, 22.998989, 23.99844 , 24.99789 , 25.997341, 26.00034 ]),\n",
       " '_slice_tidx': array([ 0,  1,  2,  3,  4,  5,  6,  7,  8,  9, 10, 11, 12, 13, 14, 15, 16,\n",
       "        17, 18, 19, 20, 21, 22, 23, 24, 25, 26, 27, 28, 29, 30, 31, 32, 33,\n",
       "        34, 35]),\n",
       " 'a': array([10.73867, 10.73867, 10.73867, 10.73867, 10.73867, 10.73867,\n",
       "        10.73867, 10.73867, 10.73867, 10.73867, 10.73867, 10.73867,\n",
       "        10.73867, 10.73867, 10.73867, 10.73867, 10.73867, 10.73867,\n",
       "        10.73867, 10.73867, 10.73867, 10.73867, 10.73867, 10.73867,\n",
       "        10.73867, 10.73867, 10.73867, 10.73867, 10.73867, 10.73867,\n",
       "        10.73867, 10.73867, 10.73867, 10.73867, 10.73867, 10.73867]),\n",
       " 'ap': array([0., 0., 0., 0., 0., 0., 0., 0., 0., 0., 0., 0., 0., 0., 0., 0., 0.,\n",
       "        0., 0., 0., 0., 0., 0., 0., 0., 0., 0., 0., 0., 0., 0., 0., 0., 0.,\n",
       "        0., 0.]),\n",
       " 'app': array([0., 0., 0., 0., 0., 0., 0., 0., 0., 0., 0., 0., 0., 0., 0., 0., 0.,\n",
       "        0., 0., 0., 0., 0., 0., 0., 0., 0., 0., 0., 0., 0., 0., 0., 0., 0.,\n",
       "        0., 0.]),\n",
       " 'rescale_A': 8.46016531163019,\n",
       " 'rescale_B': 4.067346132288118e-06,\n",
       " 'rescale_r': 2.0,\n",
       " 'rescale_s': 1.0}"
      ]
     },
     "execution_count": 35,
     "metadata": {},
     "output_type": "execute_result"
    }
   ],
   "source": [
    "output_dir = \"/media/yangelaxue/TRANSFER/Colliding_Oscillons/alpha_beta-0.5_50_250.804626/osc2_128_v2/highres_time_128/\"\n",
    "data = LATTICEEASY(output_dir)\n",
    "data.__dict__"
   ]
  },
  {
   "cell_type": "code",
   "execution_count": 36,
   "id": "f4b6f70e",
   "metadata": {},
   "outputs": [],
   "source": [
    "timeslices = [i for i in range(0,data.t.size,1)]"
   ]
  },
  {
   "cell_type": "code",
   "execution_count": 37,
   "id": "97bd561a",
   "metadata": {},
   "outputs": [
    {
     "name": "stdout",
     "output_type": "stream",
     "text": [
      "0/36\n",
      "1/36\n",
      "2/36\n",
      "3/36\n",
      "4/36\n",
      "5/36\n",
      "6/36\n",
      "7/36\n",
      "8/36\n",
      "9/36\n",
      "10/36\n",
      "11/36\n",
      "12/36\n",
      "13/36\n",
      "14/36\n",
      "15/36\n",
      "16/36\n",
      "17/36\n",
      "18/36\n",
      "19/36\n",
      "20/36\n",
      "21/36\n",
      "22/36\n",
      "23/36\n",
      "24/36\n",
      "25/36\n",
      "26/36\n",
      "27/36\n",
      "28/36\n",
      "29/36\n",
      "30/36\n",
      "31/36\n",
      "32/36\n",
      "33/36\n",
      "34/36\n",
      "35/36\n"
     ]
    }
   ],
   "source": [
    "phi_gen = (load_phi(output_dir,data.domain_dimensions,timeslice) for timeslice in timeslices)\n",
    "phip_gen = (load_phip(output_dir,data.domain_dimensions,timeslice) for timeslice in timeslices)\n",
    "\n",
    "phi_amp = []\n",
    "phip_amp = []\n",
    "for i, (phi, phip) in enumerate(zip(phi_gen,phip_gen)):\n",
    "    \n",
    "    print(f\"{i}/{len(timeslices)}\")\n",
    "    \n",
    "    Edens = get_Edens_pr(\n",
    "        phi, phip, data.a[timeslices[i]], data.ap[timeslices[i]],\n",
    "        data.alpha, data.beta, data.phi_0, data.domain_width_pr/data.domain_dimensions\n",
    "    )\n",
    "    com_idx = np.round([(Edens*x_idx).sum()/Edens.sum() for x_idx in np.indices(data.domain_dimensions)])\n",
    "    com_idx = tuple(com_idx.astype(int))\n",
    "    phi_amp.append(phi[com_idx])\n",
    "    phip_amp.append(phip[com_idx])"
   ]
  },
  {
   "cell_type": "code",
   "execution_count": 40,
   "id": "8132a8da",
   "metadata": {},
   "outputs": [
    {
     "data": {
      "image/png": "[encoded data removed]",
      "text/plain": [
       "<Figure size 640x480 with 1 Axes>"
      ]
     },
     "metadata": {},
     "output_type": "display_data"
    }
   ],
   "source": [
    "times_ex = [7,8,10,12,14,16,18,20,22,24,25,26,27,28,29]\n",
    "\n",
    "plt.plot(data.t[timeslices], phi_amp, label=r\"$\\phi_{\\textrm{pr}}$\")\n",
    "plt.plot(data.t[timeslices], phip_amp, label=r\"$\\phi_{\\textrm{pr}}'$\")\n",
    "\n",
    "for time_ex in times_ex:\n",
    "    plt.axvline(data.t[time_ex],ls='--',c='k')\n",
    "plt.axhline(0, ls='--', c='r')\n",
    "\n",
    "plt.xlabel(\"time (pr)\")\n",
    "plt.legend()\n",
    "plt.show()"
   ]
  },
  {
   "cell_type": "code",
   "execution_count": 49,
   "id": "2a4c08e3",
   "metadata": {},
   "outputs": [
    {
     "data": {
      "text/plain": [
       "(14.000413000000002,\n",
       " array([ 6.999675,  7.999603,  9.000008, 10.000412, 11.000816, 12.001221,\n",
       "        13.001625, 14.002029, 15.002434, 16.002834, 17.002285, 18.001736,\n",
       "        19.001186, 20.000637, 21.000088]))"
      ]
     },
     "execution_count": 49,
     "metadata": {},
     "output_type": "execute_result"
    }
   ],
   "source": [
    "T_pr = data.t[times_ex[-1]]-data.t[times_ex[0]]\n",
    "# times_ex = [i for i in range(10,31)]\n",
    "# times_ex = [10,12,14,16,18,20,22,24,25,26,27,28,29,30]\n",
    "# print(data.t[times_ex[1]]-data.t[times_ex[0]])\n",
    "\n",
    "T_pr, data.t[times_ex]"
   ]
  },
  {
   "cell_type": "code",
   "execution_count": 42,
   "id": "1f751d93",
   "metadata": {},
   "outputs": [
    {
     "data": {
      "text/plain": [
       "12.395807480182734"
      ]
     },
     "execution_count": 42,
     "metadata": {},
     "output_type": "execute_result"
    }
   ],
   "source": [
    "mass = get_mass(data.alpha,data.beta)\n",
    "\n",
    "omega_pr = mass/(data.rescale_B*data.a[0]**data.rescale_s)\n",
    "T_approx = 2*np.pi/omega_pr\n",
    "\n",
    "T_approx"
   ]
  },
  {
   "cell_type": "code",
   "execution_count": 43,
   "id": "e2d4608c",
   "metadata": {},
   "outputs": [
    {
     "name": "stdout",
     "output_type": "stream",
     "text": [
      "[ 11.72423    11.79645     9.623098    5.44868    -0.1027798  -5.607951\n",
      "  -9.702251  -11.80985   -11.69869    -9.332548   -4.99996     0.6897869\n",
      "   6.240037   10.30167    12.25132  ]\n",
      "[ 1.207694  -1.070224  -3.240325  -5.017337  -5.839714  -4.942785\n",
      " -3.157361  -1.020375   1.246148   3.392643   5.174352   5.932966\n",
      "  4.945306   3.077681   0.7733846]\n"
     ]
    }
   ],
   "source": [
    "print(np.array(phi_amp)[times_ex])\n",
    "print(np.array(phip_amp)[times_ex])"
   ]
  },
  {
   "cell_type": "markdown",
   "id": "a74c2e3c",
   "metadata": {},
   "source": [
    "# Save as .img"
   ]
  },
  {
   "cell_type": "code",
   "execution_count": 44,
   "id": "816f5771",
   "metadata": {},
   "outputs": [],
   "source": [
    "phi_list = [load_phi(output_dir,data.domain_dimensions,timeslice) for timeslice in times_ex]\n",
    "phip_list = [load_phip(output_dir,data.domain_dimensions,timeslice) for timeslice in times_ex]"
   ]
  },
  {
   "cell_type": "code",
   "execution_count": 45,
   "id": "586949d5",
   "metadata": {},
   "outputs": [
    {
     "name": "stdout",
     "output_type": "stream",
     "text": [
      "No interpolation\n"
     ]
    }
   ],
   "source": [
    "shape_i = (128,128,128)\n",
    "\n",
    "if shape_i==data.domain_dimensions:\n",
    "    print(\"No interpolation\")\n",
    "else:\n",
    "    for i, (phi, phip) in enumerate(zip(phi_list, phip_list)):\n",
    "        phi_i, phip_i = interpolate(shape_i,phi,phip)\n",
    "        phi_list[i] = phi_i\n",
    "        phip_list[i] = phip_i"
   ]
  },
  {
   "cell_type": "code",
   "execution_count": 46,
   "id": "130ebdd0",
   "metadata": {},
   "outputs": [],
   "source": [
    "dt_pr = data.dt_pr\n",
    "\n",
    "phi_adv_list = [phi + dt_pr/2*phip for phi, phip in zip(phi_list, phip_list)]"
   ]
  },
  {
   "cell_type": "code",
   "execution_count": 47,
   "id": "a9d4d14b",
   "metadata": {},
   "outputs": [],
   "source": [
    "N = shape_i[0]\n",
    "n_points = N*N*N\n",
    "\n",
    "# titles = [\"peak\", \"peak+0.25T4\", \"peak+0.5T\", \"peak+0.75T\", \"peak+T\"]\n",
    "titles = [f\"peak+{i}\" for i in range(len(times_ex))]\n",
    "# titles = [\"peak\"]\n",
    "\n",
    "for i, (phi, phip) in enumerate(zip(phi_adv_list, phip_list)):\n",
    "    fname_o = f\"{titles[i]}.img\"\n",
    "    datname_o = f\"{titles[i]}.dat\"\n",
    "    fdir = f\"{titles[i]}\"\n",
    "\n",
    "    if not os.path.exists(os.path.join(output_dir, fdir)):\n",
    "        os.makedirs(os.path.join(output_dir, fdir))\n",
    "\n",
    "    with open(os.path.join(output_dir, fdir, datname_o), 'w') as dat:\n",
    "        dat.write(f\"N = {phi.shape}\\n\")\n",
    "        dat.write(f\"L_pr = {data.domain_width_pr}\\n\")\n",
    "        dat.write(f\"dt_pr = {dt_pr}\\n\")\n",
    "        dat.write(f\"alpha = {data.alpha}\\n\")\n",
    "        dat.write(f\"beta = {data.beta}\\n\")\n",
    "        dat.write(f\"f0 = {data.phi_0}\\n\")\n",
    "        dat.write(f\"\\n\")\n",
    "\n",
    "#         dat.write(f\"Spatial resolution change {data.domain_dimensions} -> {shape_i}\\n\")\n",
    "#         dat.write(f\"Temporal resolution change {data.dt_pr} -> {dt_pr}\\n\")\n",
    "#         dat.write(f\"Run simulations from t_pr = {data.t[timeslice]}\\n\")\n",
    "        dat.write(f\"output_dir = {os.path.join(output_dir, fdir)}\\n\")\n",
    "\n",
    "    with open(os.path.join(output_dir, fdir, fname_o),'wb') as f_o:\n",
    "\n",
    "        f_o.write(struct.pack('<i',-1))\n",
    "        f_o.write(struct.pack('<f',0))\n",
    "        f_o.write(struct.pack('<f',data.a[times_ex[i]]))\n",
    "        f_o.write(struct.pack('<f',data.ap[times_ex[i]]))\n",
    "\n",
    "        f_o.write(struct.pack('<'+'f'*n_points,*phi.flatten()))\n",
    "        f_o.write(struct.pack('<'+'f'*n_points,*phip.flatten()))"
   ]
  },
  {
   "cell_type": "code",
   "execution_count": 48,
   "id": "fec5c5bb",
   "metadata": {},
   "outputs": [
    {
     "data": {
      "text/plain": [
       "['peak+0',\n",
       " 'peak+1',\n",
       " 'peak+2',\n",
       " 'peak+3',\n",
       " 'peak+4',\n",
       " 'peak+5',\n",
       " 'peak+6',\n",
       " 'peak+7',\n",
       " 'peak+8',\n",
       " 'peak+9',\n",
       " 'peak+10',\n",
       " 'peak+11',\n",
       " 'peak+12',\n",
       " 'peak+13',\n",
       " 'peak+14']"
      ]
     },
     "execution_count": 48,
     "metadata": {},
     "output_type": "execute_result"
    }
   ],
   "source": [
    "titles"
   ]
  },
  {
   "cell_type": "code",
   "execution_count": null,
   "id": "684d2e6d",
   "metadata": {},
   "outputs": [],
   "source": []
  }
 ],
 "metadata": {
  "kernelspec": {
   "display_name": "Python 3 (ipykernel)",
   "language": "python",
   "name": "python3"
  },
  "language_info": {
   "codemirror_mode": {
    "name": "ipython",
    "version": 3
   },
   "file_extension": ".py",
   "mimetype": "text/x-python",
   "name": "python",
   "nbconvert_exporter": "python",
   "pygments_lexer": "ipython3",
   "version": "3.12.3"
  }
 },
 "nbformat": 4,
 "nbformat_minor": 5
}
