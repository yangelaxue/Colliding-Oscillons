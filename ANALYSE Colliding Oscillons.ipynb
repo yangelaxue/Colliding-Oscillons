{
 "cells": [
  {
   "cell_type": "code",
   "execution_count": 1,
   "id": "f071c91a",
   "metadata": {},
   "outputs": [],
   "source": [
    "import numpy as np\n",
    "import matplotlib.pyplot as plt\n",
    "import os, pickle\n",
    "from scipy.integrate import simpson"
   ]
  },
  {
   "cell_type": "code",
   "execution_count": 2,
   "id": "c2d21b88",
   "metadata": {},
   "outputs": [],
   "source": [
    "from utils.latticeeasy import *\n",
    "from utils.label_utils import label_blobs, get_labels\n",
    "from utils.oscillons import *"
   ]
  },
  {
   "cell_type": "code",
   "execution_count": 3,
   "id": "70f9a5a4",
   "metadata": {},
   "outputs": [],
   "source": [
    "from matplotlib import rc\n",
    "rc('font', **{'family': 'serif', 'serif': ['Computer Modern'], 'size': 9}) # These use the latex font for the pictures :)\n",
    "# rc('font', **{'serif': ['Computer Modern']})  \n",
    "rc('text', usetex=True)                       # These use the latex font for the pictures :)\n",
    "                                                # It's just a pain to set up if you haven't yet.\n",
    "plt.rcParams['axes.axisbelow'] = True\n",
    "rc('axes', **{'titlesize': 9})\n",
    "rc('image', cmap='gist_heat_r')\n",
    "\n",
    "from mpl_toolkits.axes_grid1 import make_axes_locatable, ImageGrid"
   ]
  },
  {
   "cell_type": "markdown",
   "id": "4d95bb57",
   "metadata": {},
   "source": [
    "# Load data"
   ]
  },
  {
   "cell_type": "code",
   "execution_count": 4,
   "id": "b7542a11",
   "metadata": {
    "scrolled": false
   },
   "outputs": [
    {
     "data": {
      "text/plain": [
       "{'output_dir': '/media/yangelaxue/23E7CCB1624D2A50/Colliding_Oscillons/alpha_beta-0.5_50_250.804626/test1/smash_peak+0_peak+0_0.01c_v1',\n",
       " 'alpha': 0.5,\n",
       " 'beta': 50.0,\n",
       " 'phi_0': 0.118201,\n",
       " 'dt_pr': 0.001,\n",
       " 'dim': 3,\n",
       " 'domain_width_pr': array([0.548993, 0.548993, 0.548993]),\n",
       " 'domain_dimensions': (256, 256, 256),\n",
       " 't': array([  4.99982 ,  10.000412,  15.002434,  24.99789 ,  34.992397,\n",
       "         44.986904,  54.981411,  64.975914,  74.970421,  84.964928,\n",
       "         94.959435, 104.953941, 114.948448, 124.942955, 129.955017,\n",
       "        134.990417, 140.025818, 145.061218, 150.096619, 155.132019,\n",
       "        160.167419, 165.20282 , 170.23822 , 175.273621, 180.309021,\n",
       "        185.344421, 190.379822, 195.415222, 200.000458]),\n",
       " '_slice_tidx': array([ 0,  1,  2,  3,  4,  5,  6,  7,  8,  9, 10, 11, 12, 13, 14, 15, 16,\n",
       "        17, 18, 19, 20, 21, 22, 23, 24, 25, 26, 27, 28]),\n",
       " 'a': array([10.73867, 10.73867, 10.73867, 10.73867, 10.73867, 10.73867,\n",
       "        10.73867, 10.73867, 10.73867, 10.73867, 10.73867, 10.73867,\n",
       "        10.73867, 10.73867, 10.73867, 10.73867, 10.73867, 10.73867,\n",
       "        10.73867, 10.73867, 10.73867, 10.73867, 10.73867, 10.73867,\n",
       "        10.73867, 10.73867, 10.73867, 10.73867, 10.73867]),\n",
       " 'ap': array([0., 0., 0., 0., 0., 0., 0., 0., 0., 0., 0., 0., 0., 0., 0., 0., 0.,\n",
       "        0., 0., 0., 0., 0., 0., 0., 0., 0., 0., 0., 0.]),\n",
       " 'app': array([0., 0., 0., 0., 0., 0., 0., 0., 0., 0., 0., 0., 0., 0., 0., 0., 0.,\n",
       "        0., 0., 0., 0., 0., 0., 0., 0., 0., 0., 0., 0.]),\n",
       " 'rescale_A': 8.46016531163019,\n",
       " 'rescale_B': 4.067346132288118e-06,\n",
       " 'rescale_r': 2.0,\n",
       " 'rescale_s': 1.0}"
      ]
     },
     "execution_count": 4,
     "metadata": {},
     "output_type": "execute_result"
    }
   ],
   "source": [
    "output_dir = \"/media/yangelaxue/23E7CCB1624D2A50/Colliding_Oscillons/alpha_beta-0.5_50_250.804626/test1/smash_peak+0_peak+0_0.01c_v1\"\n",
    "# output_dir = \"/media/yangelaxue/TRANSFER/Colliding_Oscillons/CE1\"\n",
    "\n",
    "data = LATTICEEASY(output_dir)\n",
    "data.__dict__"
   ]
  },
  {
   "cell_type": "code",
   "execution_count": 5,
   "id": "e6aeeae7",
   "metadata": {},
   "outputs": [],
   "source": [
    "from utils.gmon import get_mass\n",
    "\n"
   ]
  },
  {
   "cell_type": "code",
   "execution_count": 8,
   "id": "865e6290",
   "metadata": {},
   "outputs": [
    {
     "data": {
      "text/plain": [
       "2.0325350113894476e-05"
      ]
     },
     "execution_count": 8,
     "metadata": {},
     "output_type": "execute_result"
    }
   ],
   "source": [
    "get_mass(0.05,25)"
   ]
  },
  {
   "cell_type": "code",
   "execution_count": 5,
   "id": "090b274d",
   "metadata": {},
   "outputs": [],
   "source": [
    "# output_main_dir = '_'.join('/'.join(output_dir.split('/')[:-1]).split('_')[:-1])\n",
    "output_main_dir = \"/media/yangelaxue/23E7CCB1624D2A50/Colliding_Oscillons/alpha_beta-0.5_50\"\n",
    "data_main = LATTICEEASY(output_main_dir)\n",
    "\n",
    "# t_pr = float(output_dir.split('/')[-2].split('_')[-1])\n",
    "t_pr = 250.804626\n",
    "\n",
    "timeslice, = np.where(data_main.t==t_pr)[0]"
   ]
  },
  {
   "cell_type": "code",
   "execution_count": 6,
   "id": "3524e21e",
   "metadata": {},
   "outputs": [
    {
     "data": {
      "text/plain": [
       "0.008671595406120412"
      ]
     },
     "execution_count": 6,
     "metadata": {},
     "output_type": "execute_result"
    }
   ],
   "source": [
    "assert all(data_main.a[timeslice]==data.a)\n",
    "\n",
    "a = data.a[0]\n",
    "A, B, r, s = data.rescale_A, data.rescale_B, data.rescale_r, data.rescale_s\n",
    "c_pr = 1/(a**(data.rescale_s+1))\n",
    "c_pr"
   ]
  },
  {
   "cell_type": "code",
   "execution_count": 7,
   "id": "9af61e9e",
   "metadata": {},
   "outputs": [],
   "source": [
    "key = \"alpha_beta-{}_{}\".format(round(data.alpha,2),int(data.beta))\n",
    "speeds = \"0.01c\""
   ]
  },
  {
   "cell_type": "code",
   "execution_count": 10,
   "id": "d3b9745e",
   "metadata": {},
   "outputs": [
    {
     "data": {
      "text/plain": [
       "[0, 1, 2]"
      ]
     },
     "execution_count": 10,
     "metadata": {},
     "output_type": "execute_result"
    }
   ],
   "source": [
    "timeslices = [i for i in range(data.t.size)][:3:]\n",
    "timeslices"
   ]
  },
  {
   "cell_type": "markdown",
   "id": "334a5243",
   "metadata": {},
   "source": [
    "# Look at oscillons"
   ]
  },
  {
   "cell_type": "code",
   "execution_count": 41,
   "id": "213353b6",
   "metadata": {
    "scrolled": true
   },
   "outputs": [
    {
     "data": {
      "image/png": "[encoded data removed]",
      "text/plain": [
       "<Figure size 630x400 with 2 Axes>"
      ]
     },
     "metadata": {},
     "output_type": "display_data"
    },
    {
     "data": {
      "image/png": "[encoded data removed]",
      "text/plain": [
       "<Figure size 630x400 with 2 Axes>"
      ]
     },
     "metadata": {},
     "output_type": "display_data"
    },
    {
     "data": {
      "image/png": "[encoded data removed]",
      "text/plain": [
       "<Figure size 630x400 with 2 Axes>"
      ]
     },
     "metadata": {},
     "output_type": "display_data"
    }
   ],
   "source": [
    "oscillons_fs = os.path.join(output_dir,\"oscillons_dict_{}.p\")\n",
    "\n",
    "oscillons_gen = (pickle.load(open(oscillons_fs.format(data.t[timeslice]),'rb')) for timeslice in timeslices)\n",
    "\n",
    "for timeslice, oscillons in zip(timeslices,oscillons_gen):\n",
    "        \n",
    "    fig, ax = plt.subplots(figsize=(6.3,4),tight_layout=True)\n",
    "    \n",
    "    mesh = ax.pcolormesh(oscillons[:,128].T)\n",
    "    divider = make_axes_locatable(ax)\n",
    "    cax = divider.append_axes(\"right\", size=.1, pad=0.1)\n",
    "    cbar = fig.colorbar(mesh,cax=cax,)\n",
    "    ax.set_aspect('equal')\n",
    "    ax.set_title(f\"t_pr = {data.t[timeslice]}\")\n",
    "    \n",
    "    plt.show()"
   ]
  },
  {
   "cell_type": "markdown",
   "id": "93b734b7",
   "metadata": {},
   "source": [
    "# Load masses"
   ]
  },
  {
   "cell_type": "code",
   "execution_count": 42,
   "id": "f170a1ef",
   "metadata": {},
   "outputs": [],
   "source": [
    "masses_t_dict = pickle.load(open(os.path.join(output_dir,\"masses_t_dict.p\"),'rb'))"
   ]
  },
  {
   "cell_type": "code",
   "execution_count": 43,
   "id": "586969ea",
   "metadata": {
    "scrolled": true
   },
   "outputs": [
    {
     "name": "stdout",
     "output_type": "stream",
     "text": [
      "0 [0.01624805 0.01480218]\n",
      "1 [0.01554206 0.01374121]\n",
      "2 [0.01472813 0.01374989]\n"
     ]
    }
   ],
   "source": [
    "for i, timeslice in enumerate(timeslices):\n",
    "    print(i, masses_t_dict[data.t[timeslice]])"
   ]
  },
  {
   "cell_type": "code",
   "execution_count": 44,
   "id": "21998aa1",
   "metadata": {},
   "outputs": [
    {
     "name": "stdout",
     "output_type": "stream",
     "text": [
      "[0.01624805 0.01480218] [0.01472813 0.01374989]\n"
     ]
    },
    {
     "data": {
      "text/plain": [
       "([[2.500001, 7.499639, 10.000412]], [[]])"
      ]
     },
     "execution_count": 44,
     "metadata": {},
     "output_type": "execute_result"
    }
   ],
   "source": [
    "separated = [[i for i in range(len(timeslices))]]\n",
    "separated_flat = [i for separated_t in separated for i in separated_t]\n",
    "\n",
    "for separated_t in separated:\n",
    "    print(masses_t_dict[data.t[timeslices][separated_t[0]]],masses_t_dict[data.t[timeslices][separated_t[-1]]])\n",
    "    \n",
    "separated_times = [[data.t[timeslices][t] for t in separated_t] for separated_t in separated]\n",
    "\n",
    "merged = [[]]\n",
    "count = 0\n",
    "for t in range(len(timeslices)):\n",
    "    if t not in separated_flat:\n",
    "        merged[-1].append(t)\n",
    "    else:\n",
    "        if len(merged[-1])>0:\n",
    "            merged.append([])\n",
    "\n",
    "if len(merged[0])>0:\n",
    "    for merged_t in merged:\n",
    "        print(masses_t_dict[data.t[timeslices][merged_t[0]]],masses_t_dict[data.t[timeslices][merged_t[-1]]])\n",
    "    \n",
    "merged_times = [[data.t[timeslices][t] for t in merged_t] for merged_t in merged]\n",
    "            \n",
    "separated_times, merged_times"
   ]
  },
  {
   "cell_type": "code",
   "execution_count": 45,
   "id": "cc127c33",
   "metadata": {},
   "outputs": [],
   "source": [
    "mass_T = []\n",
    "mass_1 = []\n",
    "mass_2 = []\n",
    "\n",
    "for separated_t in separated:\n",
    "    \n",
    "    mass_1.append([])\n",
    "    mass_2.append([])\n",
    "    \n",
    "    for timeslice in separated_t:\n",
    "        masses = masses_t_dict[data.t[timeslices][timeslice]]\n",
    "        \n",
    "        mass_1[-1].append(masses[0])\n",
    "        mass_2[-1].append(masses[1])\n",
    "\n",
    "for timeslice in timeslices:\n",
    "    \n",
    "    masses = masses_t_dict[data.t[timeslice]]\n",
    "    mass_T.append(sum(masses))\n",
    "    \n",
    "mass_T = np.array(mass_T)"
   ]
  },
  {
   "cell_type": "code",
   "execution_count": 46,
   "id": "ad88eac3",
   "metadata": {},
   "outputs": [
    {
     "data": {
      "text/plain": [
       "array([0.03105024, 0.02928327, 0.02847803])"
      ]
     },
     "execution_count": 46,
     "metadata": {},
     "output_type": "execute_result"
    }
   ],
   "source": [
    "mass_T"
   ]
  },
  {
   "cell_type": "code",
   "execution_count": 47,
   "id": "dd62d37e",
   "metadata": {},
   "outputs": [
    {
     "data": {
      "image/png": "[encoded data removed]",
      "text/plain": [
       "<Figure size 630x300 with 1 Axes>"
      ]
     },
     "metadata": {},
     "output_type": "display_data"
    }
   ],
   "source": [
    "c_1 = \"orangered\"\n",
    "c_2 = \"orange\"\n",
    "c_T = \"b\"\n",
    "label_1 = \"Osc 1\"\n",
    "label_2 = \"Osc 2\"\n",
    "label_T = \"Total\"\n",
    "\n",
    "fig, ax = plt.subplots(1,1,figsize=(6.3,3),tight_layout=True)\n",
    "\n",
    "for i,separated_time in enumerate(separated_times):\n",
    "    \n",
    "    if i==0:\n",
    "        ax.plot(separated_time, mass_1[i], c=c_1, marker='o', label=label_1)\n",
    "        ax.plot(separated_time, mass_2[i], c=c_2, marker='o', label=label_2)\n",
    "    else:\n",
    "        ax.plot(separated_time, mass_1[i], c=c_1, marker='o')\n",
    "        ax.plot(separated_time, mass_2[i], c=c_2, marker='o')\n",
    "\n",
    "ax.plot(data.t[timeslices], mass_T, c='b', marker='o', label=label_T)\n",
    "\n",
    "ax.legend()\n",
    "ax.set_xlabel(r\"$t$ (pr)\")\n",
    "ax.set_ylabel(r\"Mass (pr)\")\n",
    "# ax.set_ylim(-0.001,0.015)\n",
    "ax.axhline(0,c='gray',ls='--')\n",
    "\n",
    "plt.show()"
   ]
  },
  {
   "cell_type": "markdown",
   "id": "c9b7416f",
   "metadata": {},
   "source": [
    "# Load COMS, calculate velocity"
   ]
  },
  {
   "cell_type": "code",
   "execution_count": 48,
   "id": "b2dc8359",
   "metadata": {},
   "outputs": [],
   "source": [
    "coms_t_dict = pickle.load(open(os.path.join(output_dir,\"coms_t_dict.p\"),'rb'))"
   ]
  },
  {
   "cell_type": "code",
   "execution_count": 49,
   "id": "182527b3",
   "metadata": {},
   "outputs": [],
   "source": [
    "coms_T = []\n",
    "coms_1 = []\n",
    "coms_2 = []\n",
    "\n",
    "for separated_t in separated:\n",
    "    \n",
    "    coms_1.append([])\n",
    "    coms_2.append([])\n",
    "    \n",
    "    for timeslice in separated_t:\n",
    "        coms = coms_t_dict[data.t[timeslices][timeslice]].copy()\n",
    "        \n",
    "        for i, com in enumerate(coms):\n",
    "            coms[i] = com-data.domain_width_pr[0]/2\n",
    "        \n",
    "        coms_1[-1].append(coms[0])\n",
    "        coms_2[-1].append(coms[1])\n",
    "        \n",
    "for merged_t in merged:\n",
    "    \n",
    "    coms_T.append([])\n",
    "\n",
    "    for timeslice in merged_t:\n",
    "        \n",
    "        coms = coms_t_dict[data.t[timeslices][timeslice]].copy()\n",
    "        for i, com in enumerate(coms):\n",
    "            coms[i] = com-data.domain_width_pr[0]/2\n",
    "        masses = masses_t_dict[data.t[timeslices][timeslice]]\n",
    "        \n",
    "        if len(masses)==1:\n",
    "            coms_T[-1].append(coms[0])\n",
    "        else:\n",
    "            coms_T[-1].append(coms[np.where(masses==max(masses))[0][0]])\n",
    "            \n",
    "for i, (com_1, com_2, com_T) in enumerate(zip(coms_1,coms_2, coms_T)):\n",
    "    coms_1[i] = np.array(com_1)\n",
    "    coms_2[i] = np.array(com_2)\n",
    "    coms_T[i] = np.array(com_T)"
   ]
  },
  {
   "cell_type": "code",
   "execution_count": 50,
   "id": "375dba81",
   "metadata": {},
   "outputs": [],
   "source": [
    "velocity_1 = []\n",
    "velocity_2 = []\n",
    "velocity_T = []\n",
    "\n",
    "for i, separated_time in enumerate(separated_times):\n",
    "    \n",
    "    velocity_1.append(np.diff(coms_1[i],axis=0)/np.tile(np.diff(separated_time),(3,1)).T)\n",
    "    velocity_2.append(np.diff(coms_2[i],axis=0)/np.tile(np.diff(separated_time),(3,1)).T)\n",
    "    \n",
    "# for i, merged_time in enumerate(merged_times):\n",
    "    \n",
    "#     velocity_T.append(np.diff(coms_T[i],axis=0)/np.tile(np.diff(merged_time),(3,1)).T)"
   ]
  },
  {
   "cell_type": "code",
   "execution_count": 51,
   "id": "8a976d0d",
   "metadata": {
    "scrolled": false
   },
   "outputs": [
    {
     "data": {
      "text/plain": [
       "Text(0.5, -0.03, 'f')"
      ]
     },
     "execution_count": 51,
     "metadata": {},
     "output_type": "execute_result"
    },
    {
     "data": {
      "image/png": "[encoded data removed]",
      "text/plain": [
       "<Figure size 630x400 with 2 Axes>"
      ]
     },
     "metadata": {},
     "output_type": "display_data"
    }
   ],
   "source": [
    "fig, axes = plt.subplots(2,1,figsize=(6.3,4),tight_layout=True,sharex=True)\n",
    "\n",
    "for i, separated_time in enumerate(separated_times):\n",
    "    axes[0].plot(separated_time,coms_1[i][:,0], marker='o', c=c_1, label=label_1)\n",
    "    axes[0].plot(separated_time,coms_2[i][:,0], marker='o', c=c_2, label=label_2)\n",
    "    \n",
    "    axes[1].plot(separated_time[:-1],velocity_1[i][:,0]/c_pr, marker='o', c=c_1)\n",
    "    axes[1].plot(separated_time[:-1],velocity_2[i][:,0]/c_pr, marker='o', c=c_2)\n",
    "\n",
    "# for i, merged_time in enumerate(merged_times):\n",
    "#     axes[0].plot(merged_time, coms_T[i][:,0], c='b', marker='o', label=label_T)\n",
    "    \n",
    "#     axes[1].plot(merged_time[:-1], velocity_T[i][:,0], c='b', marker='o')\n",
    "    \n",
    "axes[0].set_title(\"Center of Mass Positions\")\n",
    "axes[0].set_ylabel(r\"$x$ (pr)\")\n",
    "axes[1].set_title(\"Velocities\")\n",
    "axes[1].set_ylabel(r\"$v/c$\")\n",
    "axes[1].set_xlabel(r\"$t$ (pr)\")\n",
    "# axes[1].set_ylim(-0.027,0.027)\n",
    "\n",
    "for ax in axes:\n",
    "#     ax.legend()\n",
    "    ax.grid()\n",
    "\n",
    "fig.legend(loc=(0.8,0.03))\n",
    "fig.text(.5,-0.03,'f',c='w')"
   ]
  },
  {
   "cell_type": "code",
   "execution_count": 52,
   "id": "5a993298",
   "metadata": {},
   "outputs": [
    {
     "data": {
      "text/plain": [
       "(array([-0.00342834, -0.0122996 ]), array([-0.01714497, -0.01920666]))"
      ]
     },
     "execution_count": 52,
     "metadata": {},
     "output_type": "execute_result"
    }
   ],
   "source": [
    "velocity_1[i][:,0]/c_pr, velocity_2[i][:,0]/c_pr"
   ]
  },
  {
   "cell_type": "code",
   "execution_count": null,
   "id": "d75300a0",
   "metadata": {},
   "outputs": [],
   "source": []
  },
  {
   "cell_type": "code",
   "execution_count": null,
   "id": "87db8453",
   "metadata": {},
   "outputs": [],
   "source": []
  },
  {
   "cell_type": "code",
   "execution_count": null,
   "id": "be1786c5",
   "metadata": {},
   "outputs": [],
   "source": []
  },
  {
   "cell_type": "code",
   "execution_count": null,
   "id": "c3551e4a",
   "metadata": {},
   "outputs": [],
   "source": []
  },
  {
   "cell_type": "markdown",
   "id": "4e2f411e",
   "metadata": {},
   "source": [
    "# Old stuff"
   ]
  },
  {
   "cell_type": "code",
   "execution_count": null,
   "id": "e1b07550",
   "metadata": {
    "scrolled": true
   },
   "outputs": [],
   "source": [
    "# plot_timeslices = [i for i in range(20,26)]\n",
    "# plot_timeslices = [4,5,6,7,8,9]\n",
    "plot_timeslices = timeslices\n",
    "data.t[plot_timeslices]"
   ]
  },
  {
   "cell_type": "code",
   "execution_count": null,
   "id": "6545bf7b",
   "metadata": {},
   "outputs": [],
   "source": [
    "idxes = []\n",
    "for timeslice in plot_timeslices:\n",
    "    idxes.append(np.where(timeslice==np.array(timeslices))[0][0])"
   ]
  },
  {
   "cell_type": "code",
   "execution_count": null,
   "id": "5c477326",
   "metadata": {},
   "outputs": [],
   "source": [
    "data.t[timeslices][idxes]"
   ]
  },
  {
   "cell_type": "code",
   "execution_count": null,
   "id": "9b919618",
   "metadata": {},
   "outputs": [],
   "source": [
    "dx_pr = (data.domain_width_pr[1]/data.domain_dimensions[1])"
   ]
  },
  {
   "cell_type": "code",
   "execution_count": null,
   "id": "27064b83",
   "metadata": {},
   "outputs": [],
   "source": [
    "# if os.path.exists(os.path.join(save_dir,\"Eden projections y.p\")):\n",
    "if 0:\n",
    "    print(\"Loading projections\")\n",
    "    Edens_max_y_t,Edens_proj_y_t,vmin_y,vmax_y = pickle.load(open(os.path.join(output_dir,\"Eden projections y.p\"),'rb'))\n",
    "    Edens_max_z_t,Edens_proj_z_t,vmin_z,vmax_z = pickle.load(open(os.path.join(output_dir,\"Eden projections z.p\"),'rb'))\n",
    "else:\n",
    "    \n",
    "    Edens_t = (data.get_Edens_pr(timeslice) for timeslice in timeslices)\n",
    "    \n",
    "    print(\"Saving projections\")\n",
    "    Edens_max_y_t = []\n",
    "#     Edens_max_z_t = []\n",
    "    Edens_proj_y_t = []\n",
    "#     Edens_proj_z_t = []\n",
    "\n",
    "    vmin_y, vmax_y = 0, 0\n",
    "#     vmin_z, vmax_z = 0, 0\n",
    "\n",
    "#     for i, Edens in enumerate(np.array(Edens_t)[idxes]):\n",
    "    for i, Edens in enumerate(Edens_t):\n",
    "#     for i, Edens in enumerate((data.get_Edens_pr(timeslice) for timeslice in plot_timeslices)):\n",
    "\n",
    "        print(i)\n",
    "\n",
    "        Edens_max_y = Edens.max(axis=1)\n",
    "#         Edens_max_z = Edens.max(axis=2)\n",
    "        Edens_max_y_t.append(Edens_max_y)\n",
    "#         Edens_max_z_t.append(Edens_max_z)\n",
    "\n",
    "        Edens_proj_y = simpson(Edens, dx=dx_pr, axis=1)\n",
    "#         Edens_proj_z = simpson(Edens, dx=dx_pr, axis=2)\n",
    "        Edens_proj_y_t.append(Edens_proj_y)\n",
    "#         Edens_proj_z_t.append(Edens_proj_z)\n",
    "\n",
    "        vmin_y = Edens_proj_y.min() if vmin_y>Edens_proj_y.min() else vmin_y\n",
    "        vmax_y = Edens_proj_y.max() if vmax_y<Edens_proj_y.max() else vmax_y\n",
    "\n",
    "#         vmin_z = Edens_proj_z.min() if vmin_z>Edens_proj_z.min() else vmin_z\n",
    "#         vmax_z = Edens_proj_z.max() if vmax_z<Edens_proj_z.max() else vmax_z\n",
    "\n",
    "    pickle.dump([Edens_max_y_t,Edens_proj_y_t,vmin_y,vmax_y],open(os.path.join(save_dir,\"Eden projections y.p\"),'wb'))\n",
    "#     pickle.dump([Edens_max_z_t,Edens_proj_z_t,vmin_z,vmax_z],open(os.path.join(output_dir,\"Eden projections z.p\"),'wb'))"
   ]
  },
  {
   "cell_type": "code",
   "execution_count": null,
   "id": "718a9138",
   "metadata": {},
   "outputs": [],
   "source": [
    "# if os.path.exists(os.path.join(output_dir,\"phi projections y.p\")):\n",
    "if 0:\n",
    "    print(\"Loading projections\")\n",
    "    phi_proj_y_t,phi_vmin_y,phi_vmax_y = pickle.load(open(os.path.join(output_dir,\"phi projections y.p\"),'rb'))\n",
    "    phi_proj_z_t,phi_vmin_z,phi_vmax_z = pickle.load(open(os.path.join(output_dir,\"phi projections z.p\"),'rb'))\n",
    "else:\n",
    "    print(\"Saving projections\")\n",
    "\n",
    "    phi_gen = (load_phi(output_dir,data.domain_dimensions,timeslice) for timeslice in plot_timeslices)\n",
    "\n",
    "    phi_proj_y_t = []\n",
    "#     phi_proj_z_t = []\n",
    "\n",
    "    phi_vmin_y, phi_vmax_y = 0, 0\n",
    "#     phi_vmin_z, phi_vmax_z = 0, 0\n",
    "\n",
    "    for i, phi in enumerate(phi_gen):\n",
    "\n",
    "        print(i)\n",
    "\n",
    "        phi_proj_y = simpson(phi, dx=dx_pr, axis=1)\n",
    "#         phi_proj_z = simpson(phi, dx=dx_pr, axis=2)\n",
    "        phi_proj_y_t.append(phi_proj_y)\n",
    "#         phi_proj_z_t.append(phi_proj_z)\n",
    "\n",
    "        phi_vmin_y = phi_proj_y.min() if phi_vmin_y>phi_proj_y.min() else phi_vmin_y\n",
    "        phi_vmax_y = phi_proj_y.max() if phi_vmax_y<phi_proj_y.max() else phi_vmax_y\n",
    "\n",
    "#         phi_vmin_z = phi_proj_z.min() if phi_vmin_z>phi_proj_z.min() else phi_vmin_z\n",
    "#         phi_vmax_z = phi_proj_z.max() if phi_vmax_z<phi_proj_z.max() else phi_vmax_z\n",
    "        \n",
    "    pickle.dump([phi_proj_y_t,phi_vmin_y,phi_vmax_y],open(os.path.join(save_dir,\"phi projections y.p\"),'wb'))\n",
    "#     pickle.dump([phi_proj_z_t,phi_vmin_z,phi_vmax_z],open(os.path.join(save_dir,\"phi projections z.p\"),'wb'))"
   ]
  },
  {
   "cell_type": "raw",
   "id": "c153ef40",
   "metadata": {},
   "source": [
    "phip_gen = (load_phip(output_dir,data.domain_dimensions,timeslice) for timeslice in timeslices)\n",
    "\n",
    "phip_proj_y_t = []\n",
    "phip_proj_z_t = []\n",
    "\n",
    "phip_vmin_y, phip_vmax_y = 0, 0\n",
    "phip_vmin_z, phip_vmax_z = 0, 0\n",
    "\n",
    "for i, phip in enumerate(phip_gen):\n",
    "    \n",
    "    print(i)\n",
    "    \n",
    "    phip_proj_y = simpson(phip, dx=dx_pr, axis=1)\n",
    "    phip_proj_z = simpson(phip, dx=dx_pr, axis=2)\n",
    "    phip_proj_y_t.append(phip_proj_y)\n",
    "    phip_proj_z_t.append(phip_proj_z)\n",
    "    \n",
    "    phip_vmin_y = phip_proj_y.min() if phip_vmin_y>phip_proj_y.min() else phip_vmin_y\n",
    "    phip_vmax_y = phip_proj_y.max() if phip_vmax_y<phip_proj_y.max() else phip_vmax_y\n",
    "    \n",
    "    phip_vmin_z = phip_proj_z.min() if phip_vmin_z>phip_proj_z.min() else phip_vmin_z\n",
    "    phip_vmax_z = phip_proj_z.max() if phip_vmax_z<phip_proj_z.max() else phip_vmax_z"
   ]
  },
  {
   "cell_type": "markdown",
   "id": "5a0e171d",
   "metadata": {},
   "source": [
    "# pcolormesh plots"
   ]
  },
  {
   "cell_type": "code",
   "execution_count": null,
   "id": "9b498a75",
   "metadata": {},
   "outputs": [],
   "source": [
    "L = data.domain_width_pr[0]"
   ]
  },
  {
   "cell_type": "code",
   "execution_count": 1,
   "id": "c2b8fa68",
   "metadata": {},
   "outputs": [
    {
     "ename": "NameError",
     "evalue": "name 'data' is not defined",
     "output_type": "error",
     "traceback": [
      "\u001b[0;31m---------------------------------------------------------------------------\u001b[0m",
      "\u001b[0;31mNameError\u001b[0m                                 Traceback (most recent call last)",
      "\u001b[0;32m/tmp/ipykernel_5048/2138456680.py\u001b[0m in \u001b[0;36m<cell line: 1>\u001b[0;34m()\u001b[0m\n\u001b[0;32m----> 1\u001b[0;31m \u001b[0mx\u001b[0m\u001b[0;34m,\u001b[0m\u001b[0my\u001b[0m\u001b[0;34m,\u001b[0m\u001b[0mz\u001b[0m \u001b[0;34m=\u001b[0m \u001b[0;34m(\u001b[0m\u001b[0mnp\u001b[0m\u001b[0;34m.\u001b[0m\u001b[0mlinspace\u001b[0m\u001b[0;34m(\u001b[0m\u001b[0;36m0\u001b[0m\u001b[0;34m,\u001b[0m\u001b[0mwidth_pr\u001b[0m\u001b[0;34m,\u001b[0m\u001b[0mdim\u001b[0m\u001b[0;34m)\u001b[0m \u001b[0;32mfor\u001b[0m \u001b[0mwidth_pr\u001b[0m\u001b[0;34m,\u001b[0m\u001b[0mdim\u001b[0m \u001b[0;32min\u001b[0m \u001b[0mzip\u001b[0m\u001b[0;34m(\u001b[0m\u001b[0mdata\u001b[0m\u001b[0;34m.\u001b[0m\u001b[0mdomain_width_pr\u001b[0m\u001b[0;34m,\u001b[0m\u001b[0mdata\u001b[0m\u001b[0;34m.\u001b[0m\u001b[0mdomain_dimensions\u001b[0m\u001b[0;34m)\u001b[0m\u001b[0;34m)\u001b[0m\u001b[0;34m\u001b[0m\u001b[0;34m\u001b[0m\u001b[0m\n\u001b[0m\u001b[1;32m      2\u001b[0m \u001b[0;34m\u001b[0m\u001b[0m\n\u001b[1;32m      3\u001b[0m \u001b[0mN_times\u001b[0m \u001b[0;34m=\u001b[0m \u001b[0mlen\u001b[0m\u001b[0;34m(\u001b[0m\u001b[0mplot_timeslices\u001b[0m\u001b[0;34m)\u001b[0m\u001b[0;34m\u001b[0m\u001b[0;34m\u001b[0m\u001b[0m\n\u001b[1;32m      4\u001b[0m \u001b[0;34m\u001b[0m\u001b[0m\n\u001b[1;32m      5\u001b[0m \u001b[0mfig\u001b[0m \u001b[0;34m=\u001b[0m \u001b[0mplt\u001b[0m\u001b[0;34m.\u001b[0m\u001b[0mfigure\u001b[0m\u001b[0;34m(\u001b[0m\u001b[0mfigsize\u001b[0m\u001b[0;34m=\u001b[0m\u001b[0;34m(\u001b[0m\u001b[0;36m6.3\u001b[0m\u001b[0;34m,\u001b[0m\u001b[0;36m7.5\u001b[0m\u001b[0;34m)\u001b[0m\u001b[0;34m)\u001b[0m\u001b[0;34m\u001b[0m\u001b[0;34m\u001b[0m\u001b[0m\n",
      "\u001b[0;31mNameError\u001b[0m: name 'data' is not defined"
     ]
    }
   ],
   "source": [
    "x,y,z = (np.linspace(0,width_pr,dim) for width_pr,dim in zip(data.domain_width_pr,data.domain_dimensions))\n",
    "\n",
    "N_times = len(plot_timeslices)\n",
    "\n",
    "fig = plt.figure(figsize=(6.3,7.5))\n",
    "\n",
    "grid = ImageGrid(fig, 211,\n",
    "                nrows_ncols = (2,3),\n",
    "                axes_pad = .1,\n",
    "                cbar_location = \"right\",\n",
    "                cbar_mode=\"single\",\n",
    "                cbar_size=.1,\n",
    "                cbar_pad=0.1,\n",
    "                )\n",
    "\n",
    "for j, grd in enumerate(grid):\n",
    "    mesh = grd.pcolormesh(x,y,phi_proj_y_t[j].T,vmin=phi_vmin_y,vmax=phi_vmax_y)\n",
    "    cbar = fig.colorbar(mesh, cax=grid.cbar_axes[j//3])\n",
    "    cbar.set_label(r\"$\\textrm{Proj}_{y}(\\phi_{\\textrm{pr}})$\")\n",
    "    \n",
    "    if j%3>0:\n",
    "        grd.get_yaxis().set_visible(False)\n",
    "    if j<3:\n",
    "        grd.get_xaxis().set_visible(False)\n",
    "    elif j%3==1:\n",
    "        grd.set_xlabel(r'$x$ (pr)')\n",
    "    \n",
    "    grd.text(L/16,L*3/4,r\"$t_{\\textrm{pr}}$ = \"+f\"{data.t[plot_timeslices[j]]}\",c='w')\n",
    "    grd.set_aspect('equal')\n",
    "    grd.set_ylim(L/8,L*7/8)\n",
    "    \n",
    "grid = ImageGrid(fig, 212,\n",
    "                nrows_ncols = (2,3),\n",
    "                axes_pad = .1,\n",
    "                cbar_location = \"right\",\n",
    "                cbar_mode=\"single\",\n",
    "                cbar_size=.1,\n",
    "                cbar_pad=0.1,\n",
    "                )\n",
    "\n",
    "for j, grd in enumerate(grid):\n",
    "    mesh = grd.pcolormesh(x,y,Edens_proj_y_t[j].T,vmin=vmin_y,vmax=vmax_y)\n",
    "    grd.contour(x,y,Edens_max_y_t[j].T/Edens_mean,levels=[1],colors='b',linewidths=1., linestyles=':')\n",
    "    cbar = fig.colorbar(mesh, cax=grid.cbar_axes[j//3])\n",
    "    cbar.set_label(r\"$\\textrm{Proj}_{y}(\\rho_{\\textrm{pr}})$\")\n",
    "    \n",
    "    if j%3>0:\n",
    "        grd.get_yaxis().set_visible(False)\n",
    "    if j<3:\n",
    "        grd.get_xaxis().set_visible(False)\n",
    "    elif j%3==1:\n",
    "        grd.set_xlabel(r'$x$ (pr)')\n",
    "    \n",
    "    grd.text(L/16,L*3/4,r\"$t_{\\textrm{pr}}$ = \"+f\"{data.t[plot_timeslices[j]]}\",c='k')\n",
    "    grd.set_aspect('equal')\n",
    "    grd.set_ylim(L/8,L*7/8)\n",
    "\n",
    "# fig.text(0.47,0.06,r\"$x$ (pr)\") \n",
    "# fig.text(0.47,0.5,r\"$x$ (pr)\")\n",
    "fig.text(0.5,.88,r\"Inflaton Field\",ha='center')\n",
    "fig.text(0.5,0.46,r\"Energy Density\",ha='center')\n",
    "fig.text(0.04,0.25,r\"$z$ (pr)\",rotation=90)\n",
    "fig.text(0.04,0.7,r\"$z$ (pr)\",rotation=90)\n",
    "\n",
    "# plt.savefig(os.path.join(save_dir,f\"test Collide oscillons grid {key}_{speeds} y.png\"), bbox_inches='tight', facecolor='w', dpi=400)\n",
    "plt.show()"
   ]
  },
  {
   "cell_type": "code",
   "execution_count": null,
   "id": "c099c082",
   "metadata": {},
   "outputs": [],
   "source": []
  },
  {
   "cell_type": "raw",
   "id": "6c8f93c1",
   "metadata": {},
   "source": [
    "x,y,z = (np.linspace(0,width_pr,dim) for width_pr,dim in zip(data.domain_width_pr,data.domain_dimensions))\n",
    "\n",
    "N_times = len(plot_timeslices)\n",
    "\n",
    "fig = plt.figure(figsize=(6.3,7.5))\n",
    "\n",
    "grid = ImageGrid(fig, 211,\n",
    "                nrows_ncols = (2,3),\n",
    "                axes_pad = .1,\n",
    "                cbar_location = \"right\",\n",
    "                cbar_mode=\"single\",\n",
    "                cbar_size=.1,\n",
    "                cbar_pad=0.1,\n",
    "                )\n",
    "\n",
    "for j, grd in enumerate(grid):\n",
    "    mesh = grd.pcolormesh(x,y,phi_proj_z_t[j].T,vmin=phi_vmin_z,vmax=phi_vmax_z)\n",
    "    cbar = fig.colorbar(mesh, cax=grid.cbar_axes[j//3])\n",
    "    cbar.set_label(r\"$\\textrm{Proj}_{z}(\\phi_{\\textrm{pr}})$\")\n",
    "    \n",
    "    if j%3>0:\n",
    "        grd.get_yaxis().set_visible(False)\n",
    "    if j<3:\n",
    "        grd.get_xaxis().set_visible(False)\n",
    "    elif j%3==1:\n",
    "        grd.set_xlabel(r'$x$ (pr)')\n",
    "    \n",
    "    grd.text(L/16,L*3/4,r\"$t_{\\textrm{pr}}$ = \"+f\"{data.t[plot_timeslices[j]]}\",c='w')\n",
    "    grd.set_aspect('equal')\n",
    "    grd.set_ylim(L/8,L*7/8)\n",
    "    \n",
    "# grd.set_title(\"Inflaton Field\")\n",
    "\n",
    "grid = ImageGrid(fig, 212,\n",
    "                nrows_ncols = (2,3),\n",
    "                axes_pad = .1,\n",
    "                cbar_location = \"right\",\n",
    "                cbar_mode=\"single\",\n",
    "                cbar_size=.1,\n",
    "                cbar_pad=0.1,\n",
    "                )\n",
    "\n",
    "for j, grd in enumerate(grid):\n",
    "    mesh = grd.pcolormesh(x,y,Edens_proj_z_t[j].T,vmin=vmin_z,vmax=vmax_z)\n",
    "    grd.contour(x,y,Edens_max_z_t[j].T/Edens_mean,levels=[1],colors='b',linewidths=1., linestyles=':')\n",
    "    cbar = fig.colorbar(mesh, cax=grid.cbar_axes[j//3])\n",
    "    cbar.set_label(r\"$\\textrm{Proj}_{z}(\\rho_{\\textrm{pr}})$\")\n",
    "    \n",
    "    if j%3>0:\n",
    "        grd.get_yaxis().set_visible(False)\n",
    "    if j<3:\n",
    "        grd.get_xaxis().set_visible(False)\n",
    "    elif j%3==1:\n",
    "        grd.set_xlabel(r'$x$ (pr)')\n",
    "    \n",
    "    grd.text(L/16,L*3/4,r\"$t_{\\textrm{pr}}$ = \"+f\"{data.t[plot_timeslices[j]]}\",c='k')\n",
    "    grd.set_aspect('equal')\n",
    "    grd.set_ylim(L/8,L*7/8)\n",
    "\n",
    "# fig.text(0.47,0.06,r\"$x$ (pr)\") \n",
    "# fig.text(0.47,0.5,r\"$x$ (pr)\")\n",
    "fig.text(0.5,.88,r\"Inflaton Field\",ha='center')\n",
    "fig.text(0.5,0.46,r\"Energy Density\",ha='center')\n",
    "fig.text(0.04,0.25,r\"$y$ (pr)\",rotation=90)\n",
    "fig.text(0.04,0.7,r\"$y$ (pr)\",rotation=90)\n",
    "\n",
    "plt.savefig(os.path.join(save_dir,f\"test Collide oscillons grid {key}_{speeds} z.png\"), bbox_inches='tight', facecolor='w', dpi=400)\n",
    "plt.show()"
   ]
  },
  {
   "cell_type": "code",
   "execution_count": null,
   "id": "d60238a9",
   "metadata": {},
   "outputs": [],
   "source": []
  },
  {
   "cell_type": "code",
   "execution_count": null,
   "id": "2f0a3a6b",
   "metadata": {},
   "outputs": [],
   "source": []
  },
  {
   "cell_type": "code",
   "execution_count": null,
   "id": "c7dcbeb2",
   "metadata": {},
   "outputs": [],
   "source": []
  },
  {
   "cell_type": "code",
   "execution_count": null,
   "id": "b95edf10",
   "metadata": {},
   "outputs": [],
   "source": []
  },
  {
   "cell_type": "code",
   "execution_count": null,
   "id": "5fe6cf0f",
   "metadata": {},
   "outputs": [],
   "source": []
  },
  {
   "cell_type": "code",
   "execution_count": null,
   "id": "65a5518c",
   "metadata": {},
   "outputs": [],
   "source": []
  },
  {
   "cell_type": "code",
   "execution_count": null,
   "id": "2495c2c2",
   "metadata": {},
   "outputs": [],
   "source": []
  },
  {
   "cell_type": "code",
   "execution_count": null,
   "id": "ce64de27",
   "metadata": {},
   "outputs": [],
   "source": []
  },
  {
   "cell_type": "code",
   "execution_count": null,
   "id": "328d7e34",
   "metadata": {},
   "outputs": [],
   "source": []
  },
  {
   "cell_type": "code",
   "execution_count": null,
   "id": "e3a19476",
   "metadata": {},
   "outputs": [],
   "source": []
  },
  {
   "cell_type": "code",
   "execution_count": null,
   "id": "10892491",
   "metadata": {},
   "outputs": [],
   "source": [
    "x,y,z = (np.linspace(0,width_pr,dim) for width_pr,dim in zip(data.domain_width_pr,data.domain_dimensions))\n",
    "x_trim = 1\n",
    "\n",
    "N_times = len(timeslices)\n",
    "\n",
    "fig = plt.figure(figsize=(9.7,6),tight_layout=True)\n",
    "\n",
    "grid = ImageGrid(fig, 111,\n",
    "                nrows_ncols = (3,N_times),\n",
    "                axes_pad = .1,\n",
    "                cbar_location = \"right\",\n",
    "                cbar_mode=\"edge\",\n",
    "                cbar_size=.1,\n",
    "                cbar_pad=0.1,\n",
    "                )\n",
    "\n",
    "for j, grd in enumerate(grid):\n",
    "    \n",
    "    i = j%N_times\n",
    "    f = j//N_times\n",
    "    \n",
    "    if f==0:\n",
    "        grd.set_title(fr\"$t$ (pr) = {data.t[timeslices[i]]}\")\n",
    "        mesh = grd.pcolormesh(x[:-x_trim*2],z[:-x_trim*2],phi_proj_y_t[i].T[x_trim:-x_trim,x_trim:-x_trim],vmin=phi_vmin_y,vmax=phi_vmax_y)\n",
    "    elif f==1:\n",
    "        mesh = grd.pcolormesh(x[:-x_trim*2],z[:-x_trim*2],phip_proj_y_t[i].T[x_trim:-x_trim,x_trim:-x_trim],vmin=phip_vmin_y,vmax=phip_vmax_y)\n",
    "    else:\n",
    "        mesh = grd.pcolormesh(x[:-x_trim*2],z[:-x_trim*2],Edens_proj_y_t[i].T[x_trim:-x_trim,x_trim:-x_trim],vmin=vmin_y,vmax=vmax_y)\n",
    "        grd.contour(x[:-x_trim*2],z[:-x_trim*2],Edens_max_y_t[i].T[x_trim:-x_trim,x_trim:-x_trim]/Edens_mean,levels=[1],colors='b',linewidths=1., linestyles=':')\n",
    "\n",
    "    grd.set_aspect('equal')\n",
    "    \n",
    "    if not i==0:\n",
    "        grd.get_yaxis().set_visible(False)\n",
    "    if not f==2:\n",
    "        grd.get_xaxis().set_visible(False)\n",
    "    \n",
    "\n",
    "    if i==N_times-1:\n",
    "        cbar = fig.colorbar(mesh, cax=grid.cbar_axes[f])\n",
    "        if f==0:\n",
    "            cbar.set_label(r\"$\\textrm{Proj}_{y}(\\phi_{\\textrm{pr}})$\", rotation=270, va='bottom')\n",
    "        elif f==1:\n",
    "            cbar.set_label(r\"$\\textrm{Proj}_{y}(\\phi_{\\textrm{pr}}')$\", rotation=270, va='bottom')\n",
    "        else:\n",
    "            cbar.set_label(r\"$\\textrm{Proj}_{y}(\\rho_{\\textrm{pr}})$\", rotation=270, va='bottom')\n",
    "\n",
    "            \n",
    "fig.text(0.45,0,r\"$x$ (pr)\")            \n",
    "fig.text(-.02,0.5,r\"$z$ (pr)\",rotation=90)\n",
    "\n",
    "# plt.savefig(os.path.join(save_dir,f\"Collide oscillons grid {key}_{speeds} y.png\"), bbox_inches='tight', facecolor='w', dpi=400)\n",
    "plt.show()"
   ]
  },
  {
   "cell_type": "code",
   "execution_count": null,
   "id": "be2c63c1",
   "metadata": {},
   "outputs": [],
   "source": [
    "x,y,z = (np.linspace(0,width_pr,dim) for width_pr,dim in zip(data.domain_width_pr,data.domain_dimensions))\n",
    "x_trim = 1\n",
    "\n",
    "N_times = len(timeslices)\n",
    "\n",
    "fig = plt.figure(figsize=(9.7,6),tight_layout=True)\n",
    "\n",
    "grid = ImageGrid(fig, 111,\n",
    "                nrows_ncols = (3,N_times),\n",
    "                axes_pad = .1,\n",
    "                cbar_location = \"right\",\n",
    "                cbar_mode=\"edge\",\n",
    "                cbar_size=.1,\n",
    "                cbar_pad=0.1,\n",
    "                )\n",
    "\n",
    "for j, grd in enumerate(grid):\n",
    "    \n",
    "    i = j%N_times\n",
    "    f = j//N_times\n",
    "    \n",
    "    if f==0:\n",
    "        grd.set_title(fr\"$t$ (pr) = {data.t[timeslices[i]]}\")\n",
    "        mesh = grd.pcolormesh(x[:-x_trim*2],z[:-x_trim*2],phi_proj_z_t[i].T[x_trim:-x_trim,x_trim:-x_trim],vmin=phi_vmin_z,vmax=phi_vmax_z)\n",
    "    elif f==1:\n",
    "        mesh = grd.pcolormesh(x[:-x_trim*2],z[:-x_trim*2],phip_proj_z_t[i].T[x_trim:-x_trim,x_trim:-x_trim],vmin=phip_vmin_z,vmax=phip_vmax_z)\n",
    "    else:\n",
    "        mesh = grd.pcolormesh(x[:-x_trim*2],z[:-x_trim*2],Edens_proj_z_t[i].T[x_trim:-x_trim,x_trim:-x_trim],vmin=vmin_z,vmax=vmax_z)\n",
    "        grd.contour(x[:-x_trim*2],z[:-x_trim*2],Edens_max_z_t[i].T[x_trim:-x_trim,x_trim:-x_trim]/Edens_mean,levels=[1],colors='b',linewidths=1., linestyles=':')\n",
    "    \n",
    "    grd.set_aspect('equal')\n",
    "    \n",
    "    if not i==0:\n",
    "        grd.get_yaxis().set_visible(False)\n",
    "    if not f==2:\n",
    "        grd.get_xaxis().set_visible(False)\n",
    "    \n",
    "    if i==N_times-1:\n",
    "        cbar = fig.colorbar(mesh, cax=grid.cbar_axes[f])\n",
    "        if f==0:\n",
    "            cbar.set_label(r\"$\\textrm{Proj}_{z}(\\phi_{\\textrm{pr}})$\", rotation=270, va='bottom')\n",
    "        elif f==1:\n",
    "            cbar.set_label(r\"$\\textrm{Proj}_{z}(\\phi_{\\textrm{pr}}')$\", rotation=270, va='bottom')\n",
    "        else:\n",
    "            cbar.set_label(r\"$\\textrm{Proj}_{z}(\\rho_{\\textrm{pr}})$\", rotation=270, va='bottom')\n",
    "            \n",
    "fig.text(0.45,0,r\"$x$ (pr)\")            \n",
    "fig.text(-.02,0.5,r\"$z$ (pr)\",rotation=90)\n",
    "\n",
    "plt.savefig(os.path.join(save_dir,f\"Collide oscillons grid {key}_{speeds} z.png\"), bbox_inches='tight', facecolor='w', dpi=400)\n",
    "plt.show()"
   ]
  },
  {
   "cell_type": "markdown",
   "id": "7174bdb8",
   "metadata": {},
   "source": [
    "# some profile plots"
   ]
  },
  {
   "cell_type": "code",
   "execution_count": null,
   "id": "ebf4dd52",
   "metadata": {},
   "outputs": [],
   "source": [
    "import matplotlib as mpl\n",
    "cmap = mpl.cm.get_cmap('gist_heat_r')"
   ]
  },
  {
   "cell_type": "code",
   "execution_count": null,
   "id": "a17b4802",
   "metadata": {},
   "outputs": [],
   "source": [
    "Edens_profile_t = []\n",
    "\n",
    "for i, Edens in enumerate(Edens_t):\n",
    "    \n",
    "    Edens_profile_t.append(Edens[:,128,128])\n",
    "\n",
    "Edens_profile_t = np.array(Edens_profile_t)"
   ]
  },
  {
   "cell_type": "code",
   "execution_count": null,
   "id": "a5fe4ed6",
   "metadata": {},
   "outputs": [],
   "source": [
    "n_colors = len(Edens_profile_t)\n",
    "dcolors = 1/(n_colors)\n",
    "\n",
    "# n_colors\n",
    "for i,Edens_profile in enumerate(Edens_profile_t):\n",
    "    plt.plot(x,Edens_profile,color=cmap((i+1)*dcolors))"
   ]
  },
  {
   "cell_type": "code",
   "execution_count": null,
   "id": "316bc635",
   "metadata": {},
   "outputs": [],
   "source": []
  },
  {
   "cell_type": "code",
   "execution_count": null,
   "id": "0726262d",
   "metadata": {},
   "outputs": [],
   "source": []
  },
  {
   "cell_type": "code",
   "execution_count": null,
   "id": "daf5cca8",
   "metadata": {},
   "outputs": [],
   "source": []
  },
  {
   "cell_type": "code",
   "execution_count": null,
   "id": "450d2e5e",
   "metadata": {},
   "outputs": [],
   "source": []
  },
  {
   "cell_type": "code",
   "execution_count": null,
   "id": "378ca148",
   "metadata": {},
   "outputs": [],
   "source": [
    "x,y,z = (np.linspace(0,width_pr,dim) for width_pr,dim in zip(data.domain_width_pr,data.domain_dimensions))\n",
    "x_trim = 15\n",
    "\n",
    "N_times = len(timeslices)\n",
    "\n",
    "fig = plt.figure(figsize=(9.7,4),tight_layout=True)\n",
    "\n",
    "grid = ImageGrid(fig, 111,\n",
    "                nrows_ncols = (2,N_times),\n",
    "                axes_pad = .1,\n",
    "                cbar_location = \"right\",\n",
    "                cbar_mode=\"edge\",\n",
    "                cbar_size=.1,\n",
    "                cbar_pad=0.1,\n",
    "                )\n",
    "\n",
    "for j, grd in enumerate(grid):\n",
    "    \n",
    "    i = j%N_times\n",
    "    f = j//N_times\n",
    "    \n",
    "    if f==0:\n",
    "        grd.set_title(fr\"$t$ (pr) = {data.t[timeslices[i]]}\")\n",
    "        grd.set_aspect(1/12)\n",
    "        grd.plot(x[:-x_trim*2],phi_proj_y_t[i][128][x_trim:-x_trim])\n",
    "        \n",
    "#         mesh = grd.pcolormesh(x[:-x_trim*2],z[:-x_trim*2],phi_proj_y_t[i].T[x_trim:-x_trim,x_trim:-x_trim],vmin=phi_vmin_y,vmax=phi_vmax_y)\n",
    "    elif f==10:\n",
    "        mesh = grd.pcolormesh(x[:-x_trim*2],z[:-x_trim*2],phip_proj_y_t[i].T[x_trim:-x_trim,x_trim:-x_trim],vmin=phip_vmin_y,vmax=phip_vmax_y)\n",
    "    else:\n",
    "        mesh = grd.pcolormesh(x[:-x_trim*2],z[:-x_trim*2],Edens_proj_y_t[i].T[x_trim:-x_trim,x_trim:-x_trim],vmin=vmin_y,vmax=vmax_y)\n",
    "        grd.contour(x[:-x_trim*2],z[:-x_trim*2],Edens_max_y_t[i].T[x_trim:-x_trim,x_trim:-x_trim]/Edens_mean,levels=[1],colors='b',linewidths=1., linestyles=':')\n",
    "        grd.set_aspect('equal')\n",
    "    \n",
    "    if not i==0:\n",
    "        grd.get_yaxis().set_visible(False)\n",
    "    if not f==1:\n",
    "        grd.get_xaxis().set_visible(False)\n",
    "    \n",
    "\n",
    "    if i==N_times-1:\n",
    "        \n",
    "        if f==0:\n",
    "#             cbar = fig.colorbar(mesh, cax=grid.cbar_axes[f])\n",
    "#             cbar.set_label(r\"$\\textrm{Proj}_{y}(\\phi_{\\textrm{pr}})$\", rotation=270, va='bottom')\n",
    "            continue\n",
    "        elif f==10:\n",
    "            cbar = fig.colorbar(mesh, cax=grid.cbar_axes[f])\n",
    "            cbar.set_label(r\"$\\textrm{Proj}_{y}(\\phi_{\\textrm{pr}}')$\", rotation=270, va='bottom')\n",
    "        else:\n",
    "            cbar = fig.colorbar(mesh, cax=grid.cbar_axes[f])\n",
    "            cbar.set_label(r\"$\\textrm{Proj}_{y}(\\rho_{\\textrm{pr}})$\", rotation=270, va='bottom')\n",
    "\n",
    "            \n",
    "fig.text(0.45,-.02,r\"$x$ (pr)\")            \n",
    "fig.text(-.02,0.5,r\"$z$ (pr)\",rotation=90)\n",
    "\n",
    "# plt.savefig(os.path.join(save_dir,f\"Collide oscillons grid {key}_{speeds} y.png\"), bbox_inches='tight', facecolor='w', dpi=400)\n",
    "plt.show()"
   ]
  },
  {
   "cell_type": "code",
   "execution_count": null,
   "id": "318db2f5",
   "metadata": {},
   "outputs": [],
   "source": []
  },
  {
   "cell_type": "code",
   "execution_count": null,
   "id": "93189f13",
   "metadata": {},
   "outputs": [],
   "source": []
  },
  {
   "cell_type": "code",
   "execution_count": null,
   "id": "46f1cb33",
   "metadata": {},
   "outputs": [],
   "source": []
  }
 ],
 "metadata": {
  "kernelspec": {
   "display_name": "Python 3 (ipykernel)",
   "language": "python",
   "name": "python3"
  },
  "language_info": {
   "codemirror_mode": {
    "name": "ipython",
    "version": 3
   },
   "file_extension": ".py",
   "mimetype": "text/x-python",
   "name": "python",
   "nbconvert_exporter": "python",
   "pygments_lexer": "ipython3",
   "version": "3.10.12"
  }
 },
 "nbformat": 4,
 "nbformat_minor": 5
}
