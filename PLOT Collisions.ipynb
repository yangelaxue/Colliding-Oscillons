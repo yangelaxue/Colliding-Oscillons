{
 "cells": [
  {
   "cell_type": "code",
   "execution_count": 1,
   "id": "e024c3dd",
   "metadata": {},
   "outputs": [],
   "source": [
    "import numpy as np\n",
    "import matplotlib.pyplot as plt\n",
    "import os, pickle"
   ]
  },
  {
   "cell_type": "code",
   "execution_count": 2,
   "id": "cba47c97",
   "metadata": {},
   "outputs": [],
   "source": [
    "from utils.latticeeasy import *\n",
    "from utils.gmon import get_mass\n",
    "from utils.visualisation_utils import get_opacity"
   ]
  },
  {
   "cell_type": "code",
   "execution_count": 3,
   "id": "518598ce",
   "metadata": {},
   "outputs": [],
   "source": [
    "from matplotlib import rc\n",
    "rc('font', **{'family': 'serif', 'serif': ['Computer Modern'], 'size': 9})\n",
    "rc('text', usetex=True)\n",
    "rc('image', cmap='gist_heat_r')\n",
    "rc('axes', **{'titlesize': 10})\n",
    "\n",
    "plt.rcParams['axes.axisbelow'] = True\n",
    "\n",
    "from mpl_toolkits.axes_grid1 import make_axes_locatable, ImageGrid"
   ]
  },
  {
   "cell_type": "markdown",
   "id": "352673b7",
   "metadata": {},
   "source": [
    "# Save dir"
   ]
  },
  {
   "cell_type": "code",
   "execution_count": 4,
   "id": "133c8bf2",
   "metadata": {},
   "outputs": [],
   "source": [
    "save_dir = \"images_for_paper\"\n",
    "if not os.path.exists(save_dir):\n",
    "    os.makedirs(save_dir)"
   ]
  },
  {
   "cell_type": "markdown",
   "id": "3bcff4d3",
   "metadata": {},
   "source": [
    "# Load data"
   ]
  },
  {
   "cell_type": "markdown",
   "id": "d18f50c3-23a4-473b-bef9-1db7ddc7979c",
   "metadata": {},
   "source": [
    "Skip to a few cells ahead..."
   ]
  },
  {
   "cell_type": "raw",
   "id": "27cdeb73-03a4-4bfd-952c-75d056a4846c",
   "metadata": {},
   "source": [
    "output_dir_list = [\n",
    "    # \"/media/yangelaxue/23E7CCB1624D2A50/Colliding_Oscillons/alpha_beta-0.05_25_695.675659/trial_2/smash_osc7_128_osc7_128_0.02\",\n",
    "    # \"/media/yangelaxue/23E7CCB1624D2A50/Colliding_Oscillons/alpha_beta-0.05_25_695.675659/trial_2/smash_osc7_128_osc7_128_0.02_flip\",\n",
    "    \"/media/yangelaxue/23E7CCB1624D2A50/Colliding_Oscillons/alpha_beta-0.5_50_250.804626/trial_2/smash_osc2_128_osc3_128_0.02\",\n",
    "    \"/media/yangelaxue/23E7CCB1624D2A50/Colliding_Oscillons/alpha_beta-0.5_50_250.804626/trial_2/smash_osc3_128_osc10_128_0.02\",\n",
    "    \"/media/yangelaxue/23E7CCB1624D2A50/Colliding_Oscillons/alpha_beta-0.5_50_250.804626/trial_2/smash_osc2_128_osc10_128_0.02\",\n",
    "    # \"/home/yangelaxue/Documents/UoA/Masters/For Paper/waves_plots/alpha0.5_beta50_0c_singlewave25.6y_amp0.015\"\n",
    "]\n",
    "\n",
    "output_pardir_list = [os.path.join('/',*os.path.join(*output_dir.split('/')[:6])[::-1].replace('_','/',1)[::-1].split('/')[:-1]) for output_dir in output_dir_list]\n",
    "# output_pardir_list = output_dir_list"
   ]
  },
  {
   "cell_type": "raw",
   "id": "1f392563-9a49-41ed-80c4-66468ee922b2",
   "metadata": {},
   "source": [
    "Edens_mean_list = []\n",
    "\n",
    "for output_dir, output_pardir in zip(output_dir_list,output_pardir_list):\n",
    "    \n",
    "    data_par = LATTICEEASY(output_pardir)\n",
    "\n",
    "    idx = len([1 for s,t in zip(output_pardir, output_dir) if s==t])\n",
    "    t_pr = float(output_dir[idx+1:].split('/')[0])\n",
    "    timeslice, = np.where(data_par.t==t_pr)[0]\n",
    "    Edens_mean_list.append(load_energy(output_pardir,timeslice)[1:].sum())"
   ]
  },
  {
   "cell_type": "raw",
   "id": "ac812687-4b18-4e0b-93f7-9b8ca57e57b6",
   "metadata": {},
   "source": [
    "plot_timeslices = [\n",
    "    # [2,390,415], # merger\n",
    "    # [1,135,253], # bouncer\n",
    "    [38,55,63],\n",
    "    [0,41,88],\n",
    "    [17,57,88],\n",
    "    # [0,1,2]\n",
    "]\n",
    "\n",
    "for i, output_dir in enumerate(output_dir_list):\n",
    "    data = LATTICEEASY(output_dir)\n",
    "    print(data.t[plot_timeslices[i]])"
   ]
  },
  {
   "cell_type": "raw",
   "id": "0bf8818c-c8ba-4173-b639-e01867053696",
   "metadata": {},
   "source": [
    "Edens_list = []\n",
    "\n",
    "for i, output_dir in enumerate(output_dir_list):\n",
    "    data = LATTICEEASY(output_dir)\n",
    "    \n",
    "    Edens_list.append([])\n",
    "    \n",
    "    for j in range(len(plot_timeslices[i])):\n",
    "        \n",
    "        # Edens_dir = os.path.join(output_dir,f\"edens_slice_{data.t[plot_timeslices[i][j]]}.p\") # merger and bouncer\n",
    "        Edens_dir = os.path.join(output_dir,f\"edens_{data.t[plot_timeslices[i][j]]}.p\")\n",
    "        \n",
    "        if os.path.exists(Edens_dir):\n",
    "#         if 1:\n",
    "            print(\"load\")\n",
    "            Edens_list[-1].append(pickle.load(open(Edens_dir,'rb')))\n",
    "        else:\n",
    "            print(\"save\")\n",
    "            Edens = data.get_Edens_pr(plot_timeslices[i][j])\n",
    "            Edens_list[-1].append(Edens)\n",
    "            pickle.dump(Edens,open(Edens_dir,'wb'))"
   ]
  },
  {
   "cell_type": "raw",
   "id": "8e5685d3-64a7-42bd-8d5d-f30c63e07c4f",
   "metadata": {},
   "source": [
    "data = LATTICEEASY(output_dir_list[3])\n",
    "\n",
    "domain_width = np.array(data.domain_width_pr)/data.rescale_B*get_mass(data.alpha,data.beta)\n",
    "L = domain_width[0]\n",
    "domain_grid = np.linspace(0,L,data.domain_dimensions[0])"
   ]
  },
  {
   "cell_type": "raw",
   "id": "d5323475-0b90-4bf2-bd82-ece46a823190",
   "metadata": {},
   "source": [
    "domain_width"
   ]
  },
  {
   "cell_type": "raw",
   "id": "7ab5adb8-bfe4-4734-b6f4-73b0e9b4b05d",
   "metadata": {},
   "source": [
    "fig = plt.figure(figsize=(8,8.4))\n",
    "\n",
    "subfigs = fig.subfigures(3, 1, hspace=-0.35)\n",
    "\n",
    "for i in range(3):\n",
    "\n",
    "    \n",
    "    \n",
    "    grid = ImageGrid(subfigs[i], 111,\n",
    "                 \n",
    "                 nrows_ncols = (1,3),\n",
    "                 axes_pad = 0,\n",
    "                 cbar_location = \"right\",\n",
    "                 cbar_mode=\"edge\",\n",
    "                 cbar_size=.1,\n",
    "                 cbar_pad=0.1,\n",
    "                )\n",
    "    \n",
    "    for j in range(3):\n",
    "        \n",
    "        ax = grid[j]\n",
    "    \n",
    "        # mesh = ax.pcolormesh(domain_grid-L/2,domain_grid-L/2,Edens_list[i][j].T/Edens_mean_list[i],vmax=vmax_list[i])\n",
    "        mesh = ax.pcolormesh(domain_grid-L/2,domain_grid-L/2,Edens_list[i][j][:,128].T/Edens_mean_list[i],vmax=vmax_list[i])\n",
    "        # mesh = ax.pcolormesh(domain_grid-L/2,domain_grid-L/2,Edens_list[i][j][64].T,vmax=10)\n",
    "        ax.set_aspect(1)\n",
    "        if j>0:\n",
    "            # ax.get_xaxis().set_visible(False)\n",
    "            ax.get_yaxis().set_visible(False)\n",
    "        # ax.get_yaxis().set_ticks([])\n",
    "        \n",
    "        # ax.text(L/32-L/2,L*12.5/16-L/2,r\"$t_{\\textrm{pr}}$ = \"+f'{data.t[plot_timeslices[i][j]]}')\n",
    "        ax.text(L/32-L/2,L*14.5/16-L/2,r\"$t_{\\textrm{pr}}$ = \"+f'{data.t[plot_timeslices[i][j]]}')\n",
    "        # ax.set_ylim(L/8-L/2,L*7/8-L/2)\n",
    "        # ax.set_ylim(-1,1)\n",
    "        # ax.set_xlim(-1,1)\n",
    "        # ax.text(10,190,r\"$t_{\\textrm{pr}}$ = \"+f'{data.t[plot_timeslices[i][j]]}')\n",
    "        # ax.set_ylim(40,216)\n",
    "# \n",
    "        ax.set_yticks([-1,0,1])\n",
    "        \n",
    "        # if j==0:\n",
    "        #     if i==0:\n",
    "        #         ax.set_ylabel('(a)',rotation=0,labelpad=10)\n",
    "        #     if i==1:\n",
    "        #         ax.set_ylabel('(b)',rotation=0,labelpad=10)\n",
    "        #     if i==2:\n",
    "        #         ax.set_ylabel('(c)',rotation=0,labelpad=10)\n",
    "        \n",
    "    cbar = fig.colorbar(mesh, cax=grid.cbar_axes[0])\n",
    "    # cbar.set_label(r\"$\\rho/\\rho_{\\textrm{av}}$\")\n",
    "    cbar.ax.set_title(r\"$\\rho/\\rho_{\\textrm{av}}$\",loc=\"left\",fontsize=9)\n",
    "    \n",
    "# plt.savefig(os.path.join(save_dir,f\"merger and bouncer.png\"),dpi=400,facecolor='w',bbox_inches='tight')\n",
    "# plt.savefig(os.path.join(save_dir,f\"Collisions.png\"),dpi=400,facecolor='w',bbox_inches='tight')\n",
    "plt.show()"
   ]
  },
  {
   "cell_type": "markdown",
   "id": "d16502da-6690-452f-8e63-9820e9f0d09f",
   "metadata": {},
   "source": [
    "Okay, now you can run."
   ]
  },
  {
   "cell_type": "code",
   "execution_count": 5,
   "id": "68e3d1ce-c941-4050-9807-5293fc0a09c2",
   "metadata": {},
   "outputs": [],
   "source": [
    "output_dir_list = [\n",
    "    \"data/collision 1\",\n",
    "    \"data/collision 2\",\n",
    "    \"data/collision 3\",\n",
    "]\n",
    "\n",
    "timeslices_list = [\n",
    "    [250.804626, 336.406433, 376.689636],\n",
    "    [4.99982, 265.910828, 499.999542],\n",
    "    [145.061218, 346.477234, 499.999542]\n",
    "]"
   ]
  },
  {
   "cell_type": "code",
   "execution_count": 6,
   "id": "db8277dc-9f49-4d53-91ef-fbd552585ef9",
   "metadata": {},
   "outputs": [],
   "source": [
    "Edens_mean_list = []\n",
    "\n",
    "for output_dir in output_dir_list:\n",
    "    \n",
    "    Edens_mean_list.append(load_energy(output_dir,4)[1:].sum()) # 4 is the timeslice which corresponds to the ~250t_pr time from the primary simulation."
   ]
  },
  {
   "cell_type": "code",
   "execution_count": 7,
   "id": "a0a4bb0d-13a2-4ce6-84f7-5322ed582bf3",
   "metadata": {},
   "outputs": [],
   "source": [
    "Edens_list = [[pickle.load(open(os.path.join(output_dir,f'edens_slice_{times}.p'),'rb')) for times in timeslices_list[i]] for i, output_dir in enumerate(output_dir_list)]"
   ]
  },
  {
   "cell_type": "code",
   "execution_count": 8,
   "id": "3645f130",
   "metadata": {},
   "outputs": [],
   "source": [
    "vmax_list = [np.array(Edens_list[i]).max()/Edens_mean_list[i] for i in range(len(Edens_list))]"
   ]
  },
  {
   "cell_type": "code",
   "execution_count": 9,
   "id": "101d6a7f-60b3-4ad1-ae95-b049647fecfd",
   "metadata": {},
   "outputs": [],
   "source": [
    "L_list = [3.43749956, 3.43749956, 3.43749956] # All 3 simulations happen to have the same width bc I made them so."
   ]
  },
  {
   "cell_type": "code",
   "execution_count": 10,
   "id": "17fbc278",
   "metadata": {},
   "outputs": [
    {
     "data": {
      "image/png": "[encoded data removed]",
      "text/plain": [
       "<Figure size 800x840 with 18 Axes>"
      ]
     },
     "metadata": {},
     "output_type": "display_data"
    }
   ],
   "source": [
    "fig = plt.figure(figsize=(8,8.4))\n",
    "\n",
    "subfigs = fig.subfigures(3, 1, hspace=-0.35)\n",
    "\n",
    "for i in range(3):\n",
    "    \n",
    "    grid = ImageGrid(subfigs[i], 111,\n",
    "                 \n",
    "                 nrows_ncols = (1,3),\n",
    "                 axes_pad = 0,\n",
    "                 cbar_location = \"right\",\n",
    "                 cbar_mode=\"edge\",\n",
    "                 cbar_size=.1,\n",
    "                 cbar_pad=0.1,\n",
    "                )\n",
    "\n",
    "    L = L_list[i]\n",
    "    domain_grid = np.linspace(0,L,256)\n",
    "    \n",
    "    for j in range(3):\n",
    "        \n",
    "        ax = grid[j]\n",
    "    \n",
    "        mesh = ax.pcolormesh(domain_grid-L/2,domain_grid-L/2,Edens_list[i][j].T/Edens_mean_list[i],vmax=vmax_list[i])\n",
    "        ax.set_aspect(1)\n",
    "        if j>0:\n",
    "            ax.get_yaxis().set_visible(False)\n",
    "        \n",
    "        ax.text(L/32-L/2,L*14.5/16-L/2,r\"$t_{\\textrm{pr}}$ = \"+f'{timeslices_list[i][j]}')\n",
    "        # ax.set_ylim(L/8-L/2,L*7/8-L/2) # reduce the plot height...\n",
    "\n",
    "        ax.set_yticks([-1,0,1])\n",
    "        \n",
    "    cbar = fig.colorbar(mesh, cax=grid.cbar_axes[0])\n",
    "    \n",
    "    cbar.ax.set_title(r\"$\\rho/\\rho_{\\textrm{av}}$\",loc=\"left\",fontsize=9)\n",
    "    \n",
    "# plt.savefig(os.path.join(save_dir,f\"merger and bouncer.png\"),dpi=400,facecolor='w',bbox_inches='tight')\n",
    "# plt.savefig(os.path.join(save_dir,f\"Collisions.png\"),dpi=400,facecolor='w',bbox_inches='tight')\n",
    "plt.show()"
   ]
  },
  {
   "cell_type": "code",
   "execution_count": null,
   "id": "ca5a2655-41fd-41a4-b38e-b838ecad5020",
   "metadata": {},
   "outputs": [],
   "source": []
  },
  {
   "cell_type": "code",
   "execution_count": null,
   "id": "6bacf19d-9b5e-412d-9cf0-36dce031c84c",
   "metadata": {},
   "outputs": [],
   "source": []
  },
  {
   "cell_type": "code",
   "execution_count": null,
   "id": "9e1e5c06-d2e0-4ca9-a69d-7f95d657b805",
   "metadata": {},
   "outputs": [],
   "source": []
  },
  {
   "cell_type": "code",
   "execution_count": null,
   "id": "56ad17a9-8c21-4028-84ac-2ece45dc3b51",
   "metadata": {},
   "outputs": [],
   "source": []
  },
  {
   "cell_type": "code",
   "execution_count": null,
   "id": "74fcc94d-a2c9-43ef-a560-f84256903bda",
   "metadata": {},
   "outputs": [],
   "source": []
  },
  {
   "cell_type": "code",
   "execution_count": null,
   "id": "1bf54064-aec2-4fa0-a82d-9a59e4a0c6bb",
   "metadata": {},
   "outputs": [],
   "source": []
  },
  {
   "cell_type": "code",
   "execution_count": null,
   "id": "8f6863e7-5772-41d9-818b-00db5bf3bd04",
   "metadata": {},
   "outputs": [],
   "source": []
  },
  {
   "cell_type": "code",
   "execution_count": null,
   "id": "31fb83f6-eede-4ef9-afea-87e22861fbf9",
   "metadata": {},
   "outputs": [],
   "source": []
  },
  {
   "cell_type": "code",
   "execution_count": null,
   "id": "a5f578b1-e88a-4f98-8dd0-cd20d54936a5",
   "metadata": {},
   "outputs": [],
   "source": []
  },
  {
   "cell_type": "code",
   "execution_count": null,
   "id": "b52c3fe9-a668-4b24-b873-157b669265cb",
   "metadata": {},
   "outputs": [],
   "source": []
  },
  {
   "cell_type": "code",
   "execution_count": null,
   "id": "22c241f4-1453-431e-a9f2-b6c5aa1cdeac",
   "metadata": {},
   "outputs": [],
   "source": []
  },
  {
   "cell_type": "code",
   "execution_count": null,
   "id": "20aa2cf5-a3b9-404e-9ba9-2bba48c73d89",
   "metadata": {},
   "outputs": [],
   "source": []
  },
  {
   "cell_type": "code",
   "execution_count": null,
   "id": "ef9e145b-6629-43a2-957b-06d4983a37fe",
   "metadata": {},
   "outputs": [],
   "source": []
  },
  {
   "cell_type": "code",
   "execution_count": null,
   "id": "eb66e1f7-f1a9-4d31-85c0-c5c743c8e61b",
   "metadata": {},
   "outputs": [],
   "source": []
  },
  {
   "cell_type": "code",
   "execution_count": null,
   "id": "37e7b8f9-1bcf-45cb-b46e-dfe7c3c37778",
   "metadata": {},
   "outputs": [],
   "source": []
  },
  {
   "cell_type": "code",
   "execution_count": null,
   "id": "23f63201-512e-4c44-8f99-f377cbc97a1d",
   "metadata": {},
   "outputs": [],
   "source": []
  },
  {
   "cell_type": "code",
   "execution_count": null,
   "id": "0420f937-16cb-4a7a-bcda-86946c227551",
   "metadata": {},
   "outputs": [],
   "source": []
  },
  {
   "cell_type": "code",
   "execution_count": null,
   "id": "54fdac5c-5bf6-4687-b7a8-17b01cf491f1",
   "metadata": {},
   "outputs": [],
   "source": []
  },
  {
   "cell_type": "code",
   "execution_count": null,
   "id": "6b4d53ea-713b-405e-8baf-ed2b792e2c68",
   "metadata": {},
   "outputs": [],
   "source": []
  },
  {
   "cell_type": "code",
   "execution_count": 31,
   "id": "06b64c06-5235-4719-bb53-14a86a4e0d25",
   "metadata": {},
   "outputs": [],
   "source": [
    "output_dir_list = [\n",
    "    # \"/media/yangelaxue/23E7CCB1624D2A50/Colliding_Oscillons/alpha_beta-0.05_25_695.675659/trial_2/smash_osc7_128_osc7_128_0.02\",\n",
    "    \"/media/yangelaxue/23E7CCB1624D2A50/Colliding_Oscillons/alpha_beta-0.05_25_695.675659/trial_2/smash_osc7_128_osc7_128_0.02_flip\",\n",
    "]\n",
    "\n",
    "output_pardir_list = [os.path.join('/',*os.path.join(*output_dir.split('/')[:6])[::-1].replace('_','/',1)[::-1].split('/')[:-1]) for output_dir in output_dir_list]"
   ]
  },
  {
   "cell_type": "code",
   "execution_count": 32,
   "id": "0fa04fa2-1d71-4c71-bf1f-27887a13fa40",
   "metadata": {},
   "outputs": [
    {
     "data": {
      "text/plain": [
       "['/media/yangelaxue/23E7CCB1624D2A50/Colliding_Oscillons/alpha_beta-0.05_25']"
      ]
     },
     "execution_count": 32,
     "metadata": {},
     "output_type": "execute_result"
    }
   ],
   "source": [
    "output_pardir_list"
   ]
  },
  {
   "cell_type": "code",
   "execution_count": 33,
   "id": "f6d6182a-a899-4dd1-b824-ff6b2ccffc64",
   "metadata": {},
   "outputs": [
    {
     "name": "stdout",
     "output_type": "stream",
     "text": [
      "[  10.000412  678.641479 1499.999878]\n"
     ]
    }
   ],
   "source": [
    "plot_timeslices = [\n",
    "    # [2,390,415],\n",
    "    [1,135,253],\n",
    "    \n",
    "    # [0,390,415],\n",
    "    # [0,135,253],\n",
    "]\n",
    "\n",
    "for i, output_dir in enumerate(output_dir_list):\n",
    "    data = LATTICEEASY(output_dir)\n",
    "    print(data.t[plot_timeslices[i]])"
   ]
  },
  {
   "cell_type": "code",
   "execution_count": 34,
   "id": "190ffb2e-9caa-48f4-a36a-4e41758a3255",
   "metadata": {},
   "outputs": [],
   "source": [
    "Edens_mean_list = []\n",
    "\n",
    "for output_dir, output_pardir in zip(output_dir_list,output_pardir_list):\n",
    "    \n",
    "    data_par = LATTICEEASY(output_pardir)\n",
    "\n",
    "    idx = len([1 for s,t in zip(output_pardir, output_dir) if s==t])\n",
    "    t_pr = float(output_dir[idx+1:].split('/')[0])\n",
    "    timeslice, = np.where(data_par.t==t_pr)[0]\n",
    "    Edens_mean_list.append(load_energy(output_pardir,timeslice)[1:].sum())"
   ]
  },
  {
   "cell_type": "code",
   "execution_count": 35,
   "id": "0e2b6968-1de2-483c-ac87-31b5d383c14d",
   "metadata": {},
   "outputs": [
    {
     "data": {
      "text/plain": [
       "[np.float64(0.054175074999999996)]"
      ]
     },
     "execution_count": 35,
     "metadata": {},
     "output_type": "execute_result"
    }
   ],
   "source": [
    "Edens_mean_list"
   ]
  },
  {
   "cell_type": "code",
   "execution_count": 36,
   "id": "9316513e",
   "metadata": {},
   "outputs": [
    {
     "name": "stdout",
     "output_type": "stream",
     "text": [
      "load\n",
      "load\n",
      "load\n"
     ]
    }
   ],
   "source": [
    "Edens_list = []\n",
    "\n",
    "for i, output_dir in enumerate(output_dir_list):\n",
    "    data = LATTICEEASY(output_dir)\n",
    "    \n",
    "    Edens_list.append([])\n",
    "    \n",
    "    for j in range(len(plot_timeslices[i])):\n",
    "        \n",
    "        Edens_dir = os.path.join(output_dir,f\"edens_slice_{data.t[plot_timeslices[i][j]]}.p\")\n",
    "        \n",
    "        if os.path.exists(Edens_dir):\n",
    "#         if 1:\n",
    "            print(\"load\")\n",
    "            Edens = pickle.load(open(Edens_dir,'rb'))\n",
    "            if Edens.ndim == 3:\n",
    "                print('redumping...')\n",
    "                pickle.dump(Edens[:,128],open(Edens_dir,'wb'))                \n",
    "            Edens_list[-1].append(pickle.load(open(Edens_dir,'rb')))\n",
    "        else:\n",
    "            print(\"save\")\n",
    "            Edens = data.get_Edens_pr(plot_timeslices[i][j])\n",
    "            Edens_list[-1].append(Edens)\n",
    "            pickle.dump(Edens[:,128,:],open(Edens_dir,'wb'))"
   ]
  },
  {
   "cell_type": "code",
   "execution_count": 37,
   "id": "1dcdd30b-daa9-4958-84a2-5792c85475bb",
   "metadata": {},
   "outputs": [
    {
     "data": {
      "text/plain": [
       "np.float64(109.72887345140781)"
      ]
     },
     "execution_count": 37,
     "metadata": {},
     "output_type": "execute_result"
    }
   ],
   "source": [
    "vmax_list = [np.array(Edens).max() for Edens in Edens_list] \n",
    "vmax_list[0]/Edens_mean_list[0]"
   ]
  },
  {
   "cell_type": "code",
   "execution_count": 38,
   "id": "86c2d6fe",
   "metadata": {},
   "outputs": [
    {
     "data": {
      "image/png": "[encoded data removed]",
      "text/plain": [
       "<Figure size 350x800 with 6 Axes>"
      ]
     },
     "metadata": {},
     "output_type": "display_data"
    }
   ],
   "source": [
    "fig = plt.figure(figsize=(3.5,8))\n",
    "# fig.tight_layout()\n",
    "\n",
    "subfigs = fig.subfigures(1, 1,)\n",
    "\n",
    "# subfigs[0].set_facecolor('c')\n",
    "# subfigs[1].set_facecolor('m')\n",
    "# subfigs[2].set_facecolor('c')\n",
    "\n",
    "for i in range(1):\n",
    "\n",
    "    # subfigs[i].set_facecolor((1.0, 0.0, 0.0, 0))\n",
    "\n",
    "    data = LATTICEEASY(output_dir_list[i])\n",
    "\n",
    "    domain_width = np.array(data.domain_width_pr)/data.rescale_B*get_mass(data.alpha,data.beta)\n",
    "    L = domain_width[0]\n",
    "    domain_grid = np.linspace(0,L,data.domain_dimensions[0])\n",
    "    \n",
    "    grid = ImageGrid(subfigs, 111,\n",
    "                     nrows_ncols = (3,1),\n",
    "                     axes_pad = 0,\n",
    "                     cbar_location = \"top\",\n",
    "                     cbar_mode=\"edge\",\n",
    "                     cbar_size=.1,\n",
    "                     cbar_pad=0.25,\n",
    "                )\n",
    "    grid.cbar_axes\n",
    "    \n",
    "    for j in range(3):\n",
    "        \n",
    "        ax = grid[j]\n",
    "    \n",
    "        mesh = ax.pcolormesh(domain_grid-L/2,domain_grid-L/2,Edens_list[i][j].T/Edens_mean_list[i],vmax=vmax_list[i]/Edens_mean_list[i])\n",
    "        ax.set_aspect(1)\n",
    "        ax.get_xaxis().set_ticks(np.arange(-3,4,1))\n",
    "        ax.get_yaxis().set_visible(True)\n",
    "        # ax.get_yaxis().set_ticks([])\n",
    "        ax.text(L/32-L/2,L*13/16-L/2,r\"$t_{\\textrm{pr}}$ = \"+f'{data.t[plot_timeslices[i][j]]}')\n",
    "        ax.set_ylim(L/8-L/2,L*7/8-L/2)\n",
    "        \n",
    "        # if j==0:\n",
    "        #     if i==0:\n",
    "        #         ax.set_ylabel('(a)',rotation=0,labelpad=10)\n",
    "        #     if i==1:\n",
    "        #         ax.set_ylabel('(b)',rotation=0,labelpad=10)\n",
    "        #     if i==2:\n",
    "        #         ax.set_ylabel('(c)',rotation=0,labelpad=10)\n",
    "        \n",
    "    cbar = fig.colorbar(mesh, cax=grid.cbar_axes[0], orientation='horizontal')\n",
    "    cbar.ax.set_title(r\"$\\rho/\\rho_{\\textrm{av}}$\", loc='left')\n",
    "    \n",
    "plt.savefig(os.path.join(save_dir,f\"bounce.png\"),dpi=400,facecolor='w',bbox_inches='tight')\n",
    "plt.show()"
   ]
  },
  {
   "cell_type": "markdown",
   "id": "6f79106e-4cc8-4a2a-9f36-9920726feb72",
   "metadata": {},
   "source": [
    "# Load data"
   ]
  },
  {
   "cell_type": "code",
   "execution_count": 11,
   "id": "33ec5e27-d8cc-4c3c-ba3c-18b83cca4324",
   "metadata": {},
   "outputs": [],
   "source": [
    "from utils.gradient_utils import gradient_discrete"
   ]
  },
  {
   "cell_type": "code",
   "execution_count": 12,
   "id": "b02173c9-370a-4fa9-80cc-f1a7a957f0cf",
   "metadata": {},
   "outputs": [],
   "source": [
    "output_dir = \"/media/yangelaxue/23E7CCB1624D2A50/Colliding_Oscillons/alpha_beta-0.5_50_250.804626/trial_2/smash_osc2_128_osc3_128_0.02\"\n",
    "data = LATTICEEASY(output_dir)"
   ]
  },
  {
   "cell_type": "code",
   "execution_count": 13,
   "id": "39cfcea2-cb47-44b3-b3b2-aaa6c090c1f6",
   "metadata": {},
   "outputs": [
    {
     "data": {
      "text/plain": [
       "np.float64(361.583435)"
      ]
     },
     "execution_count": 13,
     "metadata": {},
     "output_type": "execute_result"
    }
   ],
   "source": [
    "# data.t[55]\n",
    "# data.t[63]\n",
    "data.t[60]"
   ]
  },
  {
   "cell_type": "code",
   "execution_count": 14,
   "id": "61da7ba8-c850-4498-a6ed-7591d5d0b90c",
   "metadata": {},
   "outputs": [],
   "source": [
    "phi_pr = load_phi(output_dir,data.domain_dimensions,56)\n",
    "Edens_pr = data.get_Edens_pr(56)"
   ]
  },
  {
   "cell_type": "code",
   "execution_count": 15,
   "id": "6e9d5c1b-6faa-474d-af5e-14e0c76d224d",
   "metadata": {},
   "outputs": [],
   "source": [
    "phi_pr_grad = gradient_discrete(phi_pr,data.domain_width_pr/data.domain_dimensions,)\n",
    "Edens_pr_grad = gradient_discrete(Edens_pr,data.domain_width_pr/data.domain_dimensions,)"
   ]
  },
  {
   "cell_type": "code",
   "execution_count": 16,
   "id": "981711be-e1fa-436c-ba08-1acd9251d009",
   "metadata": {},
   "outputs": [],
   "source": [
    "L = (data.domain_width_pr/data.rescale_B*get_mass(data.alpha,data.beta))[0]"
   ]
  },
  {
   "cell_type": "code",
   "execution_count": 24,
   "id": "c62bde4e-e24b-48bd-8e6d-98619a0ba269",
   "metadata": {},
   "outputs": [
    {
     "data": {
      "image/png": "[encoded data removed]",
      "text/plain": [
       "<Figure size 350x600 with 2 Axes>"
      ]
     },
     "metadata": {},
     "output_type": "display_data"
    }
   ],
   "source": [
    "fig, ax = plt.subplots(1,1,figsize=(3.5,6))\n",
    "\n",
    "mesh = ax.pcolormesh(np.linspace(0,L,data.domain_dimensions[0]), np.linspace(0,L,data.domain_dimensions[0]), Edens_pr_grad[0][:,128].T,\n",
    "                    vmax=100,vmin=-100,\n",
    "                     # vmax=2\n",
    ")\n",
    "# mesh = ax.pcolormesh(np.linspace(0,L,data.domain_dimensions[0]), np.linspace(0,L,data.domain_dimensions[0]), phi_pr_grad[0][:,128].T)\n",
    "ax.set_aspect('equal')\n",
    "\n",
    "divider = make_axes_locatable(ax)\n",
    "cax = divider.append_axes(\"right\", size=.1, pad=0.1)\n",
    "cbar = fig.colorbar(mesh,cax=cax, extend='both')\n",
    "# cbar.ax.set_title(r\"$\\partial\\phi_{\\textrm{pr}}/\\partial x_{\\textrm{pr}}$\",loc='left',fontsize=9)\n",
    "cbar.ax.set_title(r\"$\\partial\\rho_{\\textrm{pr}}/\\partial x_{\\textrm{pr}}$\",loc='left',fontsize=9)\n",
    "# cbar.ax.set_title(r\"$\\rho_{\\textrm{pr}}$\",loc='left',fontsize=9)\n",
    "# cbar.ax.set_title(r\"$\\$\",loc='left')\n",
    "\n",
    "ax.set_xticks([0,1,2,3])\n",
    "ax.set_yticks([0,1,2,3])\n",
    "\n",
    "plt.savefig(os.path.join(save_dir,f\"waves.png\"),dpi=400,facecolor='w',bbox_inches='tight')\n",
    "plt.show()"
   ]
  },
  {
   "cell_type": "code",
   "execution_count": null,
   "id": "28837248-d959-446e-99d1-ee577b557b25",
   "metadata": {},
   "outputs": [],
   "source": []
  },
  {
   "cell_type": "code",
   "execution_count": null,
   "id": "4d9a4d9d-a75d-4b1a-8e92-d4662a0d0b22",
   "metadata": {},
   "outputs": [],
   "source": []
  },
  {
   "cell_type": "code",
   "execution_count": null,
   "id": "62865828-2adb-4513-a472-d5169fe1ae68",
   "metadata": {},
   "outputs": [],
   "source": []
  },
  {
   "cell_type": "code",
   "execution_count": null,
   "id": "c6ccdc6a-ecb8-4277-bef2-0582368eaa50",
   "metadata": {},
   "outputs": [],
   "source": []
  },
  {
   "cell_type": "code",
   "execution_count": null,
   "id": "16e5341b",
   "metadata": {},
   "outputs": [],
   "source": []
  }
 ],
 "metadata": {
  "kernelspec": {
   "display_name": "Python 3 (ipykernel)",
   "language": "python",
   "name": "python3"
  },
  "language_info": {
   "codemirror_mode": {
    "name": "ipython",
    "version": 3
   },
   "file_extension": ".py",
   "mimetype": "text/x-python",
   "name": "python",
   "nbconvert_exporter": "python",
   "pygments_lexer": "ipython3",
   "version": "3.12.3"
  }
 },
 "nbformat": 4,
 "nbformat_minor": 5
}
