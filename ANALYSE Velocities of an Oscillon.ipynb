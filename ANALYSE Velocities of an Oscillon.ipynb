{
 "cells": [
  {
   "cell_type": "code",
   "execution_count": 1,
   "id": "4d2ac2a9",
   "metadata": {},
   "outputs": [],
   "source": [
    "import numpy as np\n",
    "import matplotlib.pyplot as plt\n",
    "import os, pickle\n",
    "\n",
    "from utils.latticeeasy import *\n",
    "from utils.label_utils import label_blobs, get_labels"
   ]
  },
  {
   "cell_type": "markdown",
   "id": "814caaea",
   "metadata": {},
   "source": [
    "# Load data"
   ]
  },
  {
   "cell_type": "code",
   "execution_count": 10,
   "id": "ae9e8747",
   "metadata": {},
   "outputs": [
    {
     "data": {
      "text/plain": [
       "{'output_dir': '/media/yangelaxue/TRANSFER/Colliding_Oscillons/alpha_beta-0.05_25_695.675659/smash_osc7_osc1_0.001c_v2',\n",
       " 'alpha': 0.05,\n",
       " 'beta': 25.0,\n",
       " 'phi_0': 0.06424,\n",
       " 'dt_pr': 0.001,\n",
       " 'domain_width_pr': array([0.823908, 0.823908, 0.823908]),\n",
       " 'domain_dimensions': (256, 256, 256),\n",
       " 't': array([ 4.99982 , 10.000412, 15.002434, 24.99789 , 34.992397, 44.986904,\n",
       "        50.000149]),\n",
       " '_slice_tidx': array([0, 1, 2, 3, 4, 5, 6]),\n",
       " 'a': array([5.425725, 5.425725, 5.425725, 5.425725, 5.425725, 5.425725,\n",
       "        5.425725]),\n",
       " 'ap': array([0., 0., 0., 0., 0., 0., 0.]),\n",
       " 'app': array([0., 0., 0., 0., 0., 0., 0.]),\n",
       " 'rescale_A': 15.56662515566625,\n",
       " 'rescale_B': 2.8019852063808336e-06,\n",
       " 'rescale_r': 2.857142857142857,\n",
       " 'rescale_s': 2.714285714285714}"
      ]
     },
     "execution_count": 10,
     "metadata": {},
     "output_type": "execute_result"
    }
   ],
   "source": [
    "output_dir = \"/media/yangelaxue/TRANSFER/Colliding_Oscillons/alpha_beta-0.05_25_695.675659/smash_osc7_osc1_0.001c_v2\"\n",
    "\n",
    "data = LATTICEEASY(output_dir)\n",
    "data.__dict__"
   ]
  },
  {
   "cell_type": "markdown",
   "id": "4817ef1d",
   "metadata": {},
   "source": [
    "# Find velocity"
   ]
  },
  {
   "cell_type": "code",
   "execution_count": 11,
   "id": "a0904621",
   "metadata": {},
   "outputs": [
    {
     "data": {
      "text/plain": [
       "0.001870742304743387"
      ]
     },
     "execution_count": 11,
     "metadata": {},
     "output_type": "execute_result"
    }
   ],
   "source": [
    "s = get_s(data.alpha)\n",
    "c_pr = 1/data.a[0]**(s+1)\n",
    "c_pr"
   ]
  },
  {
   "cell_type": "code",
   "execution_count": 12,
   "id": "4a1c753b",
   "metadata": {},
   "outputs": [],
   "source": [
    "WHOLE_FIELD = False\n",
    "if WHOLE_FIELD:\n",
    "    f_ext = \"_field\"\n",
    "else:\n",
    "    f_ext = \"\""
   ]
  },
  {
   "cell_type": "code",
   "execution_count": 13,
   "id": "4f7efd76",
   "metadata": {},
   "outputs": [],
   "source": [
    "timeslices = [i for i in range(0,data.t.size,1)][::]"
   ]
  },
  {
   "cell_type": "code",
   "execution_count": 18,
   "id": "d052b7fc",
   "metadata": {},
   "outputs": [],
   "source": [
    "coms_t_dict = pickle.load(open(os.path.join(output_dir,f\"coms_t_dict{f_ext}.p\"),'rb'))\n",
    "com_velocities_t_dict = pickle.load(open(os.path.join(output_dir,f\"com_velocities_t_dict{f_ext}.p\"),'rb'))\n",
    "# expected_velocities_t_dict = pickle.load(open(os.path.join(output_dir,f\"expected_velocities_t_dict{f_ext}.p\"),'rb'))"
   ]
  },
  {
   "cell_type": "code",
   "execution_count": 19,
   "id": "29cfa8f2",
   "metadata": {
    "scrolled": true
   },
   "outputs": [],
   "source": [
    "com_velocities = np.array([com_velocities_t_dict[data.t[timeslice]] for timeslice in timeslices[:-1]])\n",
    "# expected_velocities = np.array([expected_velocities_t_dict[data.t[timeslice]] for timeslice in timeslices])"
   ]
  },
  {
   "cell_type": "code",
   "execution_count": 21,
   "id": "2c5b3850",
   "metadata": {},
   "outputs": [
    {
     "data": {
      "text/plain": [
       "{4.99982: [array([0.2389155 , 0.41207706, 0.4134943 ]),\n",
       "  array([0.57878483, 0.41349662, 0.41370263])],\n",
       " 10.000412: [array([0.23888579, 0.41203379, 0.41342222]),\n",
       "  array([0.57893814, 0.41342456, 0.41362631])],\n",
       " 15.002434: [array([0.23886532, 0.41199526, 0.41334825]),\n",
       "  array([0.57910333, 0.41334183, 0.4135144 ])],\n",
       " 24.99789: [array([0.23891518, 0.41200257, 0.41327956]),\n",
       "  array([0.57933883, 0.4131904 , 0.41331964])],\n",
       " 34.992397: [array([0.23905947, 0.41204581, 0.41325475]),\n",
       "  array([0.57935403, 0.41312162, 0.41322926])],\n",
       " 44.986904: [array([0.23907048, 0.41206661, 0.41324432]),\n",
       "  array([0.57939144, 0.41310759, 0.41315738])],\n",
       " 50.000149: [array([0.23908937, 0.41208052, 0.41319293]),\n",
       "  array([0.5794916 , 0.41308097, 0.41309133])]}"
      ]
     },
     "execution_count": 21,
     "metadata": {},
     "output_type": "execute_result"
    }
   ],
   "source": [
    "coms_t_dict"
   ]
  },
  {
   "cell_type": "code",
   "execution_count": 30,
   "id": "6aae8194",
   "metadata": {},
   "outputs": [],
   "source": [
    "coms_t_1 = np.array([coms_t_dict[data.t[timeslice]][0] for timeslice in timeslices])\n",
    "coms_t_2 = np.array([coms_t_dict[data.t[timeslice]][1] for timeslice in timeslices])\n",
    "\n",
    "com_velocity_1 = np.diff(coms_t_1,axis=0)/np.tile(np.diff(data.t[timeslices]),(3,1)).T\n",
    "com_velocity_2 = np.diff(coms_t_2,axis=0)/np.tile(np.diff(data.t[timeslices]),(3,1)).T"
   ]
  },
  {
   "cell_type": "code",
   "execution_count": 33,
   "id": "c5082cce",
   "metadata": {},
   "outputs": [
    {
     "data": {
      "text/plain": [
       "(array([[-0.00317636, -0.00462562, -0.00770462],\n",
       "        [-0.00218748, -0.00411739, -0.007905  ],\n",
       "        [ 0.00266645,  0.00039124, -0.00367372],\n",
       "        [ 0.00771727,  0.00231252, -0.00132712],\n",
       "        [ 0.00058913,  0.00111259, -0.00055741],\n",
       "        [ 0.00201328,  0.00148321, -0.00548008]]),\n",
       " array([[ 0.01638885, -0.00770316, -0.00815892],\n",
       "        [ 0.01765293, -0.00884075, -0.01195863],\n",
       "        [ 0.01259432, -0.00809829, -0.01041595],\n",
       "        [ 0.00081312, -0.00367871, -0.00483394],\n",
       "        [ 0.00200056, -0.00075024, -0.00384441],\n",
       "        [ 0.01068052, -0.00283861, -0.00704186]]))"
      ]
     },
     "execution_count": 33,
     "metadata": {},
     "output_type": "execute_result"
    }
   ],
   "source": [
    "com_velocity_1/c_pr, com_velocity_2/c_pr"
   ]
  },
  {
   "cell_type": "code",
   "execution_count": 9,
   "id": "9ceefbb9",
   "metadata": {},
   "outputs": [
    {
     "data": {
      "image/png": "[encoded data removed]",
      "text/plain": [
       "<Figure size 600x600 with 3 Axes>"
      ]
     },
     "metadata": {},
     "output_type": "display_data"
    }
   ],
   "source": [
    "# T_pr = 2*np.pi/get_mass(data.alpha,data.beta) * data.rescale_B*data.a[0]**data.rescale_s\n",
    "\n",
    "axis = [\"x\", \"y\", \"z\"]\n",
    "\n",
    "fig, axes = plt.subplots(3,1,figsize=(6,6),tight_layout=True,sharex=True)\n",
    "\n",
    "for i, ax in enumerate(axes):\n",
    "\n",
    "#     ax.plot(data.t[timeslices],expected_velocities[:,i]/c_pr,ls='-.',label=\"$v_{}/c$\".format(axis[i]), c='seagreen')\n",
    "\n",
    "    ax.plot(data.t[timeslices][:-1],com_velocities[:,i]/c_pr,marker='o',label=\"$V_{}/c$\".format(axis[i]), c='b')\n",
    "\n",
    "    ax.legend()\n",
    "    if i==0:\n",
    "        ax.set_title(\"Compare COM speeds ($V_i$) to expected speeds ($v_i$)\")\n",
    "    if i==1:\n",
    "        ax.set_ylabel(r\"Speed\")\n",
    "    if i==2:\n",
    "        ax.set_xlabel(r\"$t$ (pr)\")\n",
    "        \n",
    "# axes[0].set_ylim(0.009, 0.011)\n",
    "\n",
    "plt.savefig(os.path.join(output_dir,f\"compare speeds{f_ext}.png\"),dpi=300,bbox_inches='tight')\n",
    "plt.show()"
   ]
  },
  {
   "cell_type": "markdown",
   "id": "dc814d2e",
   "metadata": {},
   "source": [
    "# If previous data saved..."
   ]
  },
  {
   "cell_type": "code",
   "execution_count": null,
   "id": "176aa49e",
   "metadata": {},
   "outputs": [],
   "source": [
    "timeskip = 2\n",
    "\n",
    "pos_com = np.loadtxt(os.path.join(output_dir,\"pos_com.txt\"))\n",
    "com_dict = {t:com for t,com in zip(data.t[::timeskip],pos_com)}\n",
    "pickle.dump(com_dict,open(os.path.join(output_dir,f\"coms_t_dict{f_ext}.p\"),'wb'))\n",
    "\n",
    "v_com = np.loadtxt(os.path.join(output_dir,\"velocity_com.txt\"))\n",
    "v_com_dict = {t:v for t,v in zip(data.t[::timeskip],v_com)}\n",
    "pickle.dump(v_com_dict,open(os.path.join(output_dir,f\"com_velocities_t_dict{f_ext}.p\"),'wb'))\n",
    "\n",
    "v_exp = np.loadtxt(os.path.join(output_dir,\"velocity_expected.txt\"))\n",
    "v_exp_dict = {t:v for t,v in zip(data.t[::timeskip],v_exp)}\n",
    "pickle.dump(v_exp_dict,open(os.path.join(output_dir,f\"expected_velocities_t_dict{f_ext}.p\"),'wb'))"
   ]
  },
  {
   "cell_type": "code",
   "execution_count": null,
   "id": "9b86642f",
   "metadata": {},
   "outputs": [],
   "source": []
  }
 ],
 "metadata": {
  "kernelspec": {
   "display_name": "Python 3 (ipykernel)",
   "language": "python",
   "name": "python3"
  },
  "language_info": {
   "codemirror_mode": {
    "name": "ipython",
    "version": 3
   },
   "file_extension": ".py",
   "mimetype": "text/x-python",
   "name": "python",
   "nbconvert_exporter": "python",
   "pygments_lexer": "ipython3",
   "version": "3.10.12"
  }
 },
 "nbformat": 4,
 "nbformat_minor": 5
}
