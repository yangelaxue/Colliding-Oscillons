{
 "cells": [
  {
   "cell_type": "code",
   "execution_count": 1,
   "id": "aa8da942",
   "metadata": {},
   "outputs": [],
   "source": [
    "import numpy as np\n",
    "import matplotlib.pyplot as plt\n",
    "import os, pickle\n",
    "\n",
    "from utils.latticeeasy import *"
   ]
  },
  {
   "cell_type": "code",
   "execution_count": 2,
   "id": "712a51ee",
   "metadata": {},
   "outputs": [],
   "source": [
    "from matplotlib import rc\n",
    "import matplotlib as mpl\n",
    "from matplotlib.colors import ListedColormap\n",
    "rc('font', **{'family': 'serif', 'serif': ['Computer Modern'], 'size': 9})\n",
    "rc('text', usetex=True)\n",
    "rc('image', cmap='gist_heat_r')\n",
    "rc('axes', **{'titlesize': 9})\n",
    "\n",
    "plt.rcParams['axes.axisbelow'] = True\n"
   ]
  },
  {
   "cell_type": "markdown",
   "id": "8d9a57b8",
   "metadata": {},
   "source": [
    "# Save dir"
   ]
  },
  {
   "cell_type": "code",
   "execution_count": 3,
   "id": "0c13cb6f",
   "metadata": {},
   "outputs": [],
   "source": [
    "save_dir = \"images_for_paper\"\n",
    "if not os.path.exists(save_dir):\n",
    "    os.makedirs(save_dir)"
   ]
  },
  {
   "cell_type": "markdown",
   "id": "f418842c",
   "metadata": {},
   "source": [
    "# Load Data"
   ]
  },
  {
   "cell_type": "code",
   "execution_count": 4,
   "id": "0cd370f8",
   "metadata": {},
   "outputs": [],
   "source": [
    "outs = [\n",
    "    \"/media/yangelaxue/23E7CCB1624D2A50/Colliding_Oscillons/alpha_beta-0.5_50_250.804626/trial_2/osc2_128/boost_0.02c_256\",\n",
    "    \"/media/yangelaxue/23E7CCB1624D2A50/Colliding_Oscillons/alpha_beta-0.05_25_695.675659/trial_2/osc1_128/boost_0.02c_256\",\n",
    "    \"/media/yangelaxue/23E7CCB1624D2A50/Colliding_Oscillons/alpha_beta-0.25_80_351.512634/trial_2/osc17_128/boost_0.02c_256\",\n",
    "    \"/media/yangelaxue/23E7CCB1624D2A50/Colliding_Oscillons/alpha_beta-0.05_100_301.15863/trial_2/osc33_128/boost_0.02c_256\"\n",
    "]"
   ]
  },
  {
   "cell_type": "code",
   "execution_count": 5,
   "id": "d4d6ccdc",
   "metadata": {},
   "outputs": [],
   "source": [
    "LEs = [LATTICEEASY(out) for out in outs]"
   ]
  },
  {
   "cell_type": "code",
   "execution_count": 6,
   "id": "8636c145",
   "metadata": {},
   "outputs": [],
   "source": [
    "get_c = lambda data : 1/data.a[0]**(get_s(data.alpha)+1)\n",
    "\n",
    "cs = [get_c(LE) for LE in LEs]"
   ]
  },
  {
   "cell_type": "code",
   "execution_count": 7,
   "id": "28bad109",
   "metadata": {},
   "outputs": [],
   "source": [
    "WHOLE_FIELD = 1\n",
    "if WHOLE_FIELD:\n",
    "    f_ext = \"_field\"\n",
    "else:\n",
    "    f_ext = \"\""
   ]
  },
  {
   "cell_type": "code",
   "execution_count": 8,
   "id": "1d773a5a",
   "metadata": {},
   "outputs": [],
   "source": [
    "def get_vels(data):\n",
    "    \n",
    "    com_velocities_t_dict = pickle.load(open(os.path.join(data.output_dir,f\"com_velocities_t_dict{f_ext}.p\"),'rb'))\n",
    "    com_velocities = np.array([com_velocities_t_dict[t] for t in data.t[:-1]]).T\n",
    "\n",
    "    return com_velocities\n",
    "    \n",
    "com_vels = [get_vels(LE) for LE in LEs]"
   ]
  },
  {
   "cell_type": "code",
   "execution_count": 9,
   "id": "5d89e6bd",
   "metadata": {},
   "outputs": [
    {
     "data": {
      "image/png": "[encoded data removed]",
      "text/plain": [
       "<Figure size 350x250 with 1 Axes>"
      ]
     },
     "metadata": {},
     "output_type": "display_data"
    }
   ],
   "source": [
    "fig, ax = plt.subplots(1,1,figsize=(3.5,2.5),tight_layout=True,sharex=True)\n",
    "\n",
    "colors = ['b', 'g', 'r', 'orange']\n",
    "\n",
    "for i, (LE, com_vel, c) in enumerate(zip(LEs,com_vels,cs)):\n",
    "    ax.plot(LE.t[:-1]+LE.dt_pr/2, com_vel[0]/c, c=colors[i], marker=\".\", markersize=3, label=r'$(\\alpha,\\beta)=$'+f'({LE.alpha},{round(LE.beta)})', lw=.7, alpha=1)\n",
    "\n",
    "fig.legend(ncols=1,loc=(.21,.21,), framealpha=0)\n",
    "\n",
    "\n",
    "ax.set_xlabel(r'$t_{\\textrm{pr}}$')\n",
    "ax.set_ylabel(r'$v_x/c$')\n",
    "\n",
    "fig.savefig(os.path.join(save_dir,\"boost velocities.png\"),dpi=400,facecolor='white')\n",
    "plt.show()"
   ]
  },
  {
   "cell_type": "code",
   "execution_count": null,
   "id": "d9c95d69",
   "metadata": {},
   "outputs": [],
   "source": []
  }
 ],
 "metadata": {
  "kernelspec": {
   "display_name": "Python 3 (ipykernel)",
   "language": "python",
   "name": "python3"
  },
  "language_info": {
   "codemirror_mode": {
    "name": "ipython",
    "version": 3
   },
   "file_extension": ".py",
   "mimetype": "text/x-python",
   "name": "python",
   "nbconvert_exporter": "python",
   "pygments_lexer": "ipython3",
   "version": "3.12.3"
  }
 },
 "nbformat": 4,
 "nbformat_minor": 5
}
